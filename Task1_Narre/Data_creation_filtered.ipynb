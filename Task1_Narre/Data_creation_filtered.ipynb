{
  "nbformat": 4,
  "nbformat_minor": 0,
  "metadata": {
    "colab": {
      "name": "Data_creation_filtered.ipynb",
      "provenance": [],
      "private_outputs": true,
      "collapsed_sections": [],
      "machine_shape": "hm"
    },
    "kernelspec": {
      "name": "python3",
      "display_name": "Python 3"
    },
    "accelerator": "GPU"
  },
  "cells": [
    {
      "cell_type": "code",
      "metadata": {
        "id": "D9pz3UmaZp5e",
        "colab_type": "code",
        "colab": {}
      },
      "source": [
        "import pandas as pd\n",
        "import spacy\n",
        "import numpy as np\n",
        "from sklearn.model_selection import train_test_split\n",
        "from collections import Counter\n",
        "import itertools\n",
        "import pickle\n",
        "\n",
        "nlp = spacy.load('en')"
      ],
      "execution_count": 0,
      "outputs": []
    },
    {
      "cell_type": "code",
      "metadata": {
        "id": "Ag7bdkFZZskc",
        "colab_type": "code",
        "colab": {}
      },
      "source": [
        "from google.colab import drive\n",
        "drive.mount('/content/drive')"
      ],
      "execution_count": 0,
      "outputs": []
    },
    {
      "cell_type": "code",
      "metadata": {
        "id": "ihJ3bQCJok6V",
        "colab_type": "code",
        "colab": {}
      },
      "source": [
        "# Loading the nevada restauarnt review data\n",
        "with open('/content/drive/My Drive/Dataset/nv_restaurants_reviews.pkl', 'rb') as f:\n",
        "  nv_restaurants_reviews = pickle.load(f)"
      ],
      "execution_count": 0,
      "outputs": []
    },
    {
      "cell_type": "code",
      "metadata": {
        "id": "QJxJeuueo7e6",
        "colab_type": "code",
        "colab": {}
      },
      "source": [
        "# Taking the columns required\n",
        "review_df_restaurant = nv_restaurants_reviews.loc[:, ['business_id', 'user_id','stars','text']]\n",
        "len(review_df_restaurant)"
      ],
      "execution_count": 0,
      "outputs": []
    },
    {
      "cell_type": "code",
      "metadata": {
        "id": "1f2BZ7gawe6c",
        "colab_type": "code",
        "colab": {}
      },
      "source": [
        "#Findinf unique combination of the business user ids\n",
        "review_df_restaurant_avg=review_df_restaurant.groupby(['business_id', 'user_id'], as_index=False).agg({\"stars\": \"mean\"})"
      ],
      "execution_count": 0,
      "outputs": []
    },
    {
      "cell_type": "code",
      "metadata": {
        "id": "akFCrY6Jo_y6",
        "colab_type": "code",
        "colab": {}
      },
      "source": [
        "#Finding business with reviews more than 50\n",
        "BusinessGreaterThan50Reviews = review_df_restaurant_avg.groupby('business_id').filter(lambda x: x['business_id'].count()>50)\n",
        "BusinessGreaterThan50Reviews.business_id.nunique()"
      ],
      "execution_count": 0,
      "outputs": []
    },
    {
      "cell_type": "code",
      "metadata": {
        "id": "K1REuFqltS38",
        "colab_type": "code",
        "colab": {}
      },
      "source": [
        "#Finding business with reviews more than 20\n",
        "UsersGreaterThan20Reviews = BusinessGreaterThan50Reviews.groupby('user_id').filter(lambda x: x['user_id'].count()> 20) \n",
        "UsersGreaterThan20Reviews.user_id.nunique()   "
      ],
      "execution_count": 0,
      "outputs": []
    },
    {
      "cell_type": "code",
      "metadata": {
        "id": "x-li5KgktTej",
        "colab_type": "code",
        "colab": {}
      },
      "source": [
        "UsersGreaterThan20Reviews = UsersGreaterThan20Reviews.user_id.unique()\n",
        "UsersGreaterThan20Reviews"
      ],
      "execution_count": 0,
      "outputs": []
    },
    {
      "cell_type": "code",
      "metadata": {
        "id": "5vziSLD6s5Mo",
        "colab_type": "code",
        "colab": {}
      },
      "source": [
        "BusinessGreaterThan50Reviews = BusinessGreaterThan50Reviews.business_id.unique()\n",
        "BusinessGreaterThan50Reviews"
      ],
      "execution_count": 0,
      "outputs": []
    },
    {
      "cell_type": "code",
      "metadata": {
        "id": "gGfcIIVkvZa0",
        "colab_type": "code",
        "colab": {}
      },
      "source": [
        "nv_restaurants_reviews = nv_restaurants_reviews[nv_restaurants_reviews.user_id.isin(UsersGreaterThan20Reviews)]\n",
        "\n",
        "nv_restaurants_reviews = nv_restaurants_reviews[nv_restaurants_reviews.business_id.isin(BusinessGreaterThan50Reviews)]"
      ],
      "execution_count": 0,
      "outputs": []
    },
    {
      "cell_type": "code",
      "metadata": {
        "id": "nmABSlnXjIkp",
        "colab_type": "code",
        "colab": {}
      },
      "source": [
        "nv_restaurants_reviews = nv_restaurants_reviews.drop(['cool','date','funny','useful','review_id'],axis = 1) # Dropping the not required columns"
      ],
      "execution_count": 0,
      "outputs": []
    },
    {
      "cell_type": "code",
      "metadata": {
        "id": "HjCNDzuBGahF",
        "colab_type": "code",
        "colab": {}
      },
      "source": [
        "nv_restaurants_reviews.head()"
      ],
      "execution_count": 0,
      "outputs": []
    },
    {
      "cell_type": "code",
      "metadata": {
        "id": "kuWn2gvpmuCr",
        "colab_type": "code",
        "colab": {}
      },
      "source": [
        "#finding unique user and business ids\n",
        "unique_user_id = nv_restaurants_reviews['user_id'].unique()\n",
        "unique_business_id = nv_restaurants_reviews['business_id'].unique()"
      ],
      "execution_count": 0,
      "outputs": []
    },
    {
      "cell_type": "code",
      "metadata": {
        "id": "hMysCse2nDvo",
        "colab_type": "code",
        "colab": {}
      },
      "source": [
        "# creating a numeric representation of the ids\n",
        "unique_user_id_dict = dict((id, i) for (i, id) in enumerate(unique_user_id,1))\n",
        "unique_business_id_dict = dict((id, i) for (i, id) in enumerate(unique_business_id,1))"
      ],
      "execution_count": 0,
      "outputs": []
    },
    {
      "cell_type": "code",
      "metadata": {
        "id": "_060CTHoqVvj",
        "colab_type": "code",
        "colab": {}
      },
      "source": [
        "#Replacing the alphanumeric ids with numeric representation\n",
        "nv_restaurants_reviews['user_id'] = list(map(lambda x: unique_user_id_dict[x], nv_restaurants_reviews['user_id']))\n",
        "nv_restaurants_reviews['business_id'] = list(map(lambda x: unique_business_id_dict[x], nv_restaurants_reviews['business_id']))\n",
        "nv_restaurants_reviews.head(10)"
      ],
      "execution_count": 0,
      "outputs": []
    },
    {
      "cell_type": "code",
      "metadata": {
        "id": "kQ29wn7E9yGX",
        "colab_type": "code",
        "colab": {}
      },
      "source": [
        "nv_restaurants_reviews = nv_restaurants_reviews[['user_id','business_id','stars','text']]\n",
        "nv_restaurants_reviews.head()"
      ],
      "execution_count": 0,
      "outputs": []
    },
    {
      "cell_type": "code",
      "metadata": {
        "id": "mTpeBY_7sxyg",
        "colab_type": "code",
        "colab": {}
      },
      "source": [
        "# Tokenization and cleaning of reviews\n",
        "def clean(s):\n",
        "  \n",
        "  string = nlp(s)\n",
        "  words = [token.text for token in string\n",
        "         if token.is_stop != True and token.is_punct != True and token.is_alpha == True]\n",
        "  return words"
      ],
      "execution_count": 0,
      "outputs": []
    },
    {
      "cell_type": "code",
      "metadata": {
        "id": "f-2MOmpyt2Ek",
        "colab_type": "code",
        "colab": {}
      },
      "source": [
        "# Main tokenization function\n",
        "def tokenization (data):\n",
        "  \n",
        "  text_token = []\n",
        "  i = data.shape[0]\n",
        "  for j in data.values:\n",
        "    if(i%1000 == 0):\n",
        "      print(i)\n",
        "    i -= 1\n",
        "    text_token.append(clean(j[3]))\n",
        "    \n",
        "\n",
        "  return(text_token)"
      ],
      "execution_count": 0,
      "outputs": []
    },
    {
      "cell_type": "code",
      "metadata": {
        "id": "Z_l4LKy4ACbC",
        "colab_type": "code",
        "colab": {}
      },
      "source": [
        "text_token = tokenization(nv_restaurants_reviews)\n",
        "nv_restaurants_reviews[\"text_token\"] = text_token\n",
        "nv_restaurants_reviews"
      ],
      "execution_count": 0,
      "outputs": []
    },
    {
      "cell_type": "code",
      "metadata": {
        "id": "5Oj1TyT-uyIK",
        "colab_type": "code",
        "colab": {}
      },
      "source": [
        "nv_restaurants_reviews.shape"
      ],
      "execution_count": 0,
      "outputs": []
    },
    {
      "cell_type": "code",
      "metadata": {
        "id": "ow2SmYUC57Uf",
        "colab_type": "code",
        "colab": {}
      },
      "source": [
        "with open('/content/drive/My Drive/nv_restaurants_reviews_filtered.pkl', 'wb') as f:\n",
        "  pickle.dump(nv_restaurants_reviews,f)"
      ],
      "execution_count": 0,
      "outputs": []
    },
    {
      "cell_type": "code",
      "metadata": {
        "id": "_hAm4-0PWiJu",
        "colab_type": "code",
        "colab": {}
      },
      "source": [
        "with open('/content/drive/My Drive/nv_restaurants_reviews_filtered.pkl', 'rb') as f:\n",
        "  nv_restaurants_reviews = pickle.load(f)"
      ],
      "execution_count": 0,
      "outputs": []
    },
    {
      "cell_type": "code",
      "metadata": {
        "id": "rPty6wrBWpZW",
        "colab_type": "code",
        "colab": {}
      },
      "source": [
        "with open('/content/drive/My Drive/Dataset/user_business_id_test.pkl', 'rb') as f: # Business ids and user ids used for test in task1 part A\n",
        "  user_business_id_test = pickle.load(f)"
      ],
      "execution_count": 0,
      "outputs": []
    },
    {
      "cell_type": "code",
      "metadata": {
        "id": "fuy1wiNHYGpY",
        "colab_type": "code",
        "colab": {}
      },
      "source": [
        "len(user_business_id_test)"
      ],
      "execution_count": 0,
      "outputs": []
    },
    {
      "cell_type": "code",
      "metadata": {
        "id": "1JiN68jgWvQV",
        "colab_type": "code",
        "colab": {}
      },
      "source": [
        "# Converting the alphanumeric  business ids and user ids from task1 part A to their respective numeric representation\n",
        "business_test_ids = [i[1] for i in user_business_id_test]\n",
        "users_test_ids = [i[0] for i in user_business_id_test]\n",
        "\n",
        "business_test =  []\n",
        "user_test = []\n",
        "\n",
        "for i in business_test_ids:\n",
        "  if i in  unique_business_id_dict:\n",
        "    business_test.append(unique_business_id_dict[i])\n",
        "\n",
        "for i in users_test_ids:\n",
        "  if i in unique_user_id_dict:\n",
        "    user_test.append(unique_user_id_dict[i])"
      ],
      "execution_count": 0,
      "outputs": []
    },
    {
      "cell_type": "code",
      "metadata": {
        "id": "FFvCVLG9ZckJ",
        "colab_type": "code",
        "colab": {}
      },
      "source": [
        "#Filtering the data for the business ids and user ids combination to create train and test data similar to task 1 part A\n",
        "nv_restaurants_reviews['tuples'] =  list(zip(nv_restaurants_reviews.user_id,nv_restaurants_reviews.business_id))\n",
        "user_business_test =  list(zip(user_test,business_test))\n",
        "validation = nv_restaurants_reviews[nv_restaurants_reviews.tuples.isin(user_business_test)]\n",
        "train = nv_restaurants_reviews[~nv_restaurants_reviews.tuples.isin(user_business_test)]"
      ],
      "execution_count": 0,
      "outputs": []
    },
    {
      "cell_type": "code",
      "metadata": {
        "id": "zSYuwGybfeAx",
        "colab_type": "code",
        "colab": {}
      },
      "source": [
        "train_validation = train.append(validation)\n",
        "train_validation.head()"
      ],
      "execution_count": 0,
      "outputs": []
    },
    {
      "cell_type": "code",
      "metadata": {
        "id": "y29-gfaW10Hk",
        "colab_type": "code",
        "colab": {}
      },
      "source": [
        "del unique_business_id\n",
        "del unique_user_id\n",
        "del unique_business_id_dict\n",
        "del unique_user_id_dict"
      ],
      "execution_count": 0,
      "outputs": []
    },
    {
      "cell_type": "code",
      "metadata": {
        "id": "C0SAYYwq5jB9",
        "colab_type": "code",
        "colab": {}
      },
      "source": [
        "#Collating all the reviews and user/business ids for user and business\n",
        "user_reviews={}\n",
        "business_reviews={}\n",
        "user_business_id={}\n",
        "business_user_id={}\n",
        "\n",
        "for i in train_validation.values:\n",
        "    if i[0] in user_reviews:\n",
        "        user_reviews[i[0]].append(i[4])\n",
        "        user_business_id[i[0]].append(i[1])\n",
        "    else:\n",
        "        user_business_id[i[0]]=[i[1]]\n",
        "        user_reviews[i[0]]=[i[4]]\n",
        "\n",
        "    if i[1] in business_reviews:\n",
        "        business_reviews[i[1]].append(i[4])\n",
        "        business_user_id[i[1]].append(i[0])\n",
        "    else:\n",
        "        business_reviews[i[1]] = [i[4]]\n",
        "        business_user_id[i[1]]=[i[0]]\n",
        "\n",
        "\n",
        "# for i in test.values:\n",
        "#     if i[0] not in user_reviews:\n",
        "#         user_business_id[i[0]]=[0]\n",
        "#         user_reviews[i[0]]=[['0']]\n",
        "#     if i[1] not in business_reviews:\n",
        "#         business_reviews[i[1]] = [['0']]\n",
        "#         business_user_id[i[1]]=[0]"
      ],
      "execution_count": 0,
      "outputs": []
    },
    {
      "cell_type": "code",
      "metadata": {
        "id": "vzAV0S_rn2Rs",
        "colab_type": "code",
        "colab": {}
      },
      "source": [
        "del train_validation"
      ],
      "execution_count": 0,
      "outputs": []
    },
    {
      "cell_type": "code",
      "metadata": {
        "id": "2OsrdItPPUx_",
        "colab_type": "code",
        "colab": {}
      },
      "source": [
        "#Collating all the reviews and user/business ids for user and business for train data\n",
        "user_business_id_train = []\n",
        "business_user_id_train = []\n",
        "user_id_train = []\n",
        "business_id_train = []\n",
        "y_train = []\n",
        "\n",
        "u_text = {}\n",
        "\n",
        "b_text = {}\n",
        "\n",
        "\n",
        "for j in train.values:\n",
        "\n",
        "  user_id_train.append(j[0])\n",
        "  business_id_train.append(j[1])  \n",
        "\n",
        "  if j[0] not in u_text:\n",
        "    u_text[j[0]] = []\n",
        "    for k in user_reviews[j[0]]:\n",
        "      u_text[j[0]].append(k)\n",
        "    \n",
        "  user_business_id_train.append(user_business_id[j[0]])\n",
        "\n",
        "  if j[1] not in b_text:\n",
        "    b_text[j[1]] = []\n",
        "    for k in business_reviews[j[1]]:\n",
        "      b_text[j[1]].append(k)\n",
        "\n",
        "  business_user_id_train.append(business_user_id[j[1]])\n",
        "  \n",
        "  y_train.append(j[2])"
      ],
      "execution_count": 0,
      "outputs": []
    },
    {
      "cell_type": "code",
      "metadata": {
        "id": "Jg5ffcAluDlh",
        "colab_type": "code",
        "colab": {}
      },
      "source": [
        "#Collating all the reviews and user/business ids for user and business for validation data\n",
        "user_business_id_valid = []\n",
        "business_user_id_valid = []\n",
        "user_id_valid = []\n",
        "business_id_valid = []\n",
        "y_valid = []\n",
        "\n",
        "\n",
        "i = validation.shape[0]\n",
        "for j in validation.values:\n",
        "\n",
        "  \n",
        "\n",
        "  user_id_valid.append(j[0])\n",
        "  business_id_valid.append(j[1])\n",
        "\n",
        "  if j[0] in u_text:\n",
        "    user_business_id_valid.append(user_business_id[j[0]])\n",
        "\n",
        "  else:\n",
        "    u_text[j[0]] = [['<PAD/>']] ## If the user is not in train data then use padding as reviews\n",
        "    user_business_id_train.append([0]) ## If the user is not in train data then use padding as business ids\n",
        "\n",
        "  if j[1] in b_text:\n",
        "    business_user_id_valid.append(business_user_id[j[1]])\n",
        "\n",
        "  else:\n",
        "    b_text[j[1]] = [['<PAD/>']] ## If the business is not in train data then use padding as reviews\n",
        "    business_user_id_valid.append([1]) ## If the business is not in train data then use padding as user ids\n",
        "\n",
        "  y_valid.append(j[2])"
      ],
      "execution_count": 0,
      "outputs": []
    },
    {
      "cell_type": "code",
      "metadata": {
        "id": "ZqhmbGMUogN2",
        "colab_type": "code",
        "colab": {}
      },
      "source": [
        "del train, validation"
      ],
      "execution_count": 0,
      "outputs": []
    },
    {
      "cell_type": "code",
      "metadata": {
        "id": "CVNILb99iBUY",
        "colab_type": "code",
        "colab": {}
      },
      "source": [
        "# Taking 90th percentile as the max lenght for reviews and collation of business and user ids\n",
        "user_reviews_num = np.array([len(x) for x in u_text.values()])\n",
        "user_reviews_num_max = np.sort(user_reviews_num)[int(0.9 * len(user_reviews_num)) - 1]\n",
        "user_reviews_len = np.array([len(j) for i in u_text.values() for j in i])\n",
        "user_reviews_len_max = np.sort(user_reviews_len)[int(0.9 * len(user_reviews_len)) - 1]\n",
        "\n",
        "business_reviews_num = np.array([len(x) for x in b_text.values()])\n",
        "business_reviews_num_max = np.sort(business_reviews_num)[int(0.9 * len(business_reviews_num)) - 1]\n",
        "business_reviews_len = np.array([len(j) for i in b_text.values() for j in i])\n",
        "business_reviews_len_max = np.sort(business_reviews_len)[int(0.9 * len(business_reviews_len)) - 1]\n",
        "\n",
        "user_num = max(u_text.keys())\n",
        "business_num = max(b_text.keys())\n",
        "\n",
        "print('user_reviews_num_max: ',user_reviews_num_max)\n",
        "print('user_reviews_len_max: ',user_reviews_len_max)\n",
        "print('business_reviews_num_max: ',business_reviews_num_max)\n",
        "print('business_reviews_len_max: ',business_reviews_len_max)\n"
      ],
      "execution_count": 0,
      "outputs": []
    },
    {
      "cell_type": "code",
      "metadata": {
        "id": "Swn3bYnBaPKE",
        "colab_type": "code",
        "colab": {}
      },
      "source": [
        "# To pad reviews if they are smaller than max length and cut reviews if they are bigger than max length\n",
        "\n",
        "def pad_sentences(text,max_reviews_num, max_review_len):\n",
        "\n",
        "  u_text2 = {}\n",
        "  padding_word = \"<PAD/>\"\n",
        "  for i in text.keys():\n",
        "      u_reviews = text[i]\n",
        "      padded_u_train = []\n",
        "      for ri in range(max_reviews_num):\n",
        "          if ri < len(u_reviews):\n",
        "              sentence = u_reviews[ri]\n",
        "              if max_review_len > len(sentence):\n",
        "                  num_padding = max_review_len - len(sentence)\n",
        "                  # print(\"i:\",i)\n",
        "                  # print(\"sentence:\", sentence)\n",
        "                  # print(\"padding_word:\", padding_word)\n",
        "                  # print(\"num_padding:\", num_padding)\n",
        "                  new_sentence = sentence + [padding_word] * num_padding\n",
        "                  padded_u_train.append(new_sentence)\n",
        "              else:\n",
        "                  new_sentence = sentence[:max_review_len]\n",
        "                  padded_u_train.append(new_sentence)\n",
        "          else:\n",
        "              new_sentence = [padding_word] * max_review_len\n",
        "              padded_u_train.append(new_sentence)\n",
        "      u_text2[i] = padded_u_train\n",
        "\n",
        "  return u_text2\n",
        "\n"
      ],
      "execution_count": 0,
      "outputs": []
    },
    {
      "cell_type": "code",
      "metadata": {
        "id": "OclyyytdBAni",
        "colab_type": "code",
        "colab": {}
      },
      "source": [
        "# To pad collation of ids if they are smaller than max length and cut reviews if they are bigger than max length\n",
        "\n",
        "def pad_reviewid(u_train, u_valid, u_len, num):\n",
        "    pad_u_train = []\n",
        "\n",
        "    for i in range(len(u_train)):\n",
        "        x = u_train[i]\n",
        "        while u_len > len(x):\n",
        "            x.append(num)\n",
        "        if u_len < len(x):\n",
        "            x = x[:u_len]\n",
        "        pad_u_train.append(x)\n",
        "    pad_u_valid = []\n",
        "\n",
        "    for i in range(len(u_valid)):\n",
        "        x = u_valid[i]\n",
        "        while u_len > len(x):\n",
        "            x.append(num)\n",
        "        if u_len < len(x):\n",
        "            x = x[:u_len]\n",
        "        pad_u_valid.append(x)\n",
        "    return pad_u_train, pad_u_valid"
      ],
      "execution_count": 0,
      "outputs": []
    },
    {
      "cell_type": "code",
      "metadata": {
        "id": "EIEIz-AmdWzc",
        "colab_type": "code",
        "colab": {}
      },
      "source": [
        "# Padding for users\n",
        "u_text1 = pad_sentences(u_text, user_reviews_num_max, user_reviews_len_max)\n",
        "reid_user_train, reid_user_valid = pad_reviewid(user_business_id_train, user_business_id_valid, user_reviews_num_max, business_num + 1)"
      ],
      "execution_count": 0,
      "outputs": []
    },
    {
      "cell_type": "code",
      "metadata": {
        "id": "hrZy00Fux8lq",
        "colab_type": "code",
        "colab": {}
      },
      "source": [
        "# Padding for business\n",
        "b_text1 = pad_sentences(b_text, business_reviews_num_max, business_reviews_len_max)\n",
        "reid_business_train, reid_business_valid = pad_reviewid(business_user_id_train, business_user_id_valid, business_reviews_num_max, user_num + 1)"
      ],
      "execution_count": 0,
      "outputs": []
    },
    {
      "cell_type": "code",
      "metadata": {
        "id": "Iqe4hXg6V_fq",
        "colab_type": "code",
        "colab": {}
      },
      "source": [
        "user_voc = [xx for x in u_text1.values() for xx in x]\n",
        "business_voc = [xx for x in b_text1.values() for xx in x]"
      ],
      "execution_count": 0,
      "outputs": []
    },
    {
      "cell_type": "code",
      "metadata": {
        "id": "gAKte0DSWmXB",
        "colab_type": "code",
        "colab": {}
      },
      "source": [
        "# Building vocanulary and index of the vocab\n",
        "def build_vocab(sentences1, sentences2):\n",
        "    # Build vocabulary\n",
        "    word_counts1 = Counter(itertools.chain(*sentences1))\n",
        "    # Mapping from index to word\n",
        "    vocabulary_inv1 = [x[0] for x in word_counts1.most_common()]\n",
        "    vocabulary_inv1 = list(sorted(vocabulary_inv1))\n",
        "    # Mapping from word to index\n",
        "    vocabulary1 = {x: i for i, x in enumerate(vocabulary_inv1)}\n",
        "\n",
        "    word_counts2 = Counter(itertools.chain(*sentences2))\n",
        "    # Mapping from index to word\n",
        "    vocabulary_inv2 = [x[0] for x in word_counts2.most_common()]\n",
        "    vocabulary_inv2 = list(sorted(vocabulary_inv2))\n",
        "    # Mapping from word to index\n",
        "    vocabulary2 = {x: i for i, x in enumerate(vocabulary_inv2)}\n",
        "    return [vocabulary1, vocabulary_inv1, vocabulary2, vocabulary_inv2]"
      ],
      "execution_count": 0,
      "outputs": []
    },
    {
      "cell_type": "code",
      "metadata": {
        "id": "GvyGpQ5_pZ_H",
        "colab_type": "code",
        "colab": {}
      },
      "source": [
        "# Building vocanulary and index of the vocab\n",
        "vocabulary_user, vocabulary_inv_user, vocabulary_business, vocabulary_inv_business = build_vocab(user_voc, business_voc)"
      ],
      "execution_count": 0,
      "outputs": []
    },
    {
      "cell_type": "code",
      "metadata": {
        "id": "CFEXtvgdovIU",
        "colab_type": "code",
        "colab": {}
      },
      "source": [
        "del user_voc, business_voc"
      ],
      "execution_count": 0,
      "outputs": []
    },
    {
      "cell_type": "code",
      "metadata": {
        "id": "gCfH80RKo9IM",
        "colab_type": "code",
        "colab": {}
      },
      "source": [
        "del u_text, b_text"
      ],
      "execution_count": 0,
      "outputs": []
    },
    {
      "cell_type": "code",
      "metadata": {
        "id": "dGZLxRxjqVUe",
        "colab_type": "code",
        "colab": {}
      },
      "source": [
        "# Building data for input\n",
        "def build_input_data(u_text, i_text, vocabulary_u, vocabulary_i):\n",
        "    \n",
        "    l = len(u_text)\n",
        "    u_text2 = {}\n",
        "    for i in u_text.keys():\n",
        "        u_reviews = u_text[i]\n",
        "        u = np.array([[vocabulary_u[word] for word in words] for words in u_reviews])\n",
        "        u_text2[i] = u\n",
        "    l = len(i_text)\n",
        "    i_text2 = {}\n",
        "    for j in i_text.keys():\n",
        "        i_reviews = i_text[j]\n",
        "        i = np.array([[vocabulary_i[word] for word in words] for words in i_reviews])\n",
        "        i_text2[j] = i\n",
        "    return u_text2, i_text2"
      ],
      "execution_count": 0,
      "outputs": []
    },
    {
      "cell_type": "code",
      "metadata": {
        "id": "AboS93upqlXP",
        "colab_type": "code",
        "colab": {}
      },
      "source": [
        "u_text, b_text = build_input_data(u_text1, b_text1, vocabulary_user, vocabulary_business)"
      ],
      "execution_count": 0,
      "outputs": []
    },
    {
      "cell_type": "code",
      "metadata": {
        "id": "rOWk6XLypEHn",
        "colab_type": "code",
        "colab": {}
      },
      "source": [
        "del u_text1, b_text1"
      ],
      "execution_count": 0,
      "outputs": []
    },
    {
      "cell_type": "code",
      "metadata": {
        "id": "-mpdHbcqq_52",
        "colab_type": "code",
        "colab": {}
      },
      "source": [
        "y_train = np.array(y_train)\n",
        "y_valid = np.array(y_valid)\n",
        "\n",
        "uid_train = np.array(user_id_train)\n",
        "uid_valid = np.array(user_id_valid)\n",
        "\n",
        "iid_train = np.array(business_id_train)\n",
        "iid_valid = np.array(business_id_valid)\n",
        "\n",
        "reid_user_train = np.array(reid_user_train)\n",
        "reid_user_valid = np.array(reid_user_valid)\n",
        "\n",
        "reid_item_train = np.array(reid_business_train)\n",
        "reid_item_valid = np.array(reid_business_valid)\n"
      ],
      "execution_count": 0,
      "outputs": []
    },
    {
      "cell_type": "code",
      "metadata": {
        "id": "tg2kqI_nrBCh",
        "colab_type": "code",
        "colab": {}
      },
      "source": [
        "#Shuffling the data\n",
        "np.random.seed(42)\n",
        "\n",
        "shuffle_indices = np.random.permutation(np.arange(len(y_train)))\n",
        "\n",
        "userid_train = uid_train[shuffle_indices]\n",
        "itemid_train = iid_train[shuffle_indices]\n",
        "y_train = y_train[shuffle_indices]\n",
        "reid_user_train = reid_user_train[shuffle_indices]\n",
        "reid_item_train = reid_item_train[shuffle_indices]\n",
        "\n",
        "y_train = y_train[:, np.newaxis]\n",
        "y_valid = y_valid[:, np.newaxis]\n",
        "\n",
        "\n",
        "userid_train = userid_train[:, np.newaxis]\n",
        "itemid_train = itemid_train[:, np.newaxis]\n",
        "userid_valid = uid_valid[:, np.newaxis]\n",
        "itemid_valid = iid_valid[:, np.newaxis]"
      ],
      "execution_count": 0,
      "outputs": []
    },
    {
      "cell_type": "code",
      "metadata": {
        "id": "5RkeOcBcsE06",
        "colab_type": "code",
        "colab": {}
      },
      "source": [
        "batches_train = list(zip(userid_train, itemid_train, reid_user_train, reid_item_train, y_train))\n",
        "batches_valid = list(zip(userid_valid, itemid_valid, reid_user_valid, reid_item_valid, y_valid))\n",
        "\n",
        "\n",
        "with open('/content/drive/My Drive/yelp_NARRE_train_filtered.pkl', 'wb') as f:\n",
        "  pickle.dump(batches_train, f)\n",
        "\n",
        "with open('/content/drive/My Drive/yelp_NARRE_valid_filtered.pkl', 'wb') as f:\n",
        "  pickle.dump(batches_valid, f)\n",
        "\n"
      ],
      "execution_count": 0,
      "outputs": []
    },
    {
      "cell_type": "code",
      "metadata": {
        "id": "zoU2y3MZta4i",
        "colab_type": "code",
        "colab": {}
      },
      "source": [
        "#Storing parameters required\n",
        "para = {}\n",
        "para['user_num'] = user_num\n",
        "para['item_num'] = business_num\n",
        "para['review_num_u'] = u_text[1].shape[0]\n",
        "para['review_num_i'] = b_text[1].shape[0]\n",
        "para['review_len_u'] = u_text[1].shape[1]\n",
        "para['review_len_i'] = b_text[1].shape[1]\n",
        "para['user_vocab'] = vocabulary_user\n",
        "para['item_vocab'] = vocabulary_business\n",
        "para['train_length'] = len(y_train)\n",
        "para['test_length'] = len(y_valid)\n",
        "para['u_text'] = u_text\n",
        "para['i_text'] = b_text"
      ],
      "execution_count": 0,
      "outputs": []
    },
    {
      "cell_type": "code",
      "metadata": {
        "id": "MDKEFER6uRa6",
        "colab_type": "code",
        "colab": {}
      },
      "source": [
        "with open('/content/drive/My Drive/NARRE_para_filtered.pkl', 'wb') as f:\n",
        "  pickle.dump(para,f)"
      ],
      "execution_count": 0,
      "outputs": []
    },
    {
      "cell_type": "code",
      "metadata": {
        "id": "K3QAmcggFwXV",
        "colab_type": "code",
        "colab": {}
      },
      "source": [
        ""
      ],
      "execution_count": 0,
      "outputs": []
    }
  ]
}