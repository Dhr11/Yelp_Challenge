{
  "nbformat": 4,
  "nbformat_minor": 0,
  "metadata": {
    "colab": {
      "name": "Search_Task2_DL_FinalModel",
      "provenance": [],
      "collapsed_sections": []
    },
    "kernelspec": {
      "name": "python3",
      "display_name": "Python 3"
    },
    "accelerator": "GPU"
  },
  "cells": [
    {
      "cell_type": "markdown",
      "metadata": {
        "id": "23QnEW15XulL",
        "colab_type": "text"
      },
      "source": [
        "## Implementation of LSTM on Review Text and Features"
      ]
    },
    {
      "cell_type": "code",
      "metadata": {
        "id": "tXBX3a3RPvDp",
        "colab_type": "code",
        "colab": {}
      },
      "source": [
        "from keras.preprocessing import sequence\n",
        "from keras.utils import plot_model\n",
        "from keras.models import Sequential\n",
        "from keras.layers import Dense, Dropout, Embedding, LSTM, Bidirectional\n",
        "from keras.callbacks import ReduceLROnPlateau, ModelCheckpoint\n",
        "from keras.losses import binary_crossentropy\n",
        "from keras.datasets import imdb\n",
        "import json\n",
        "from pandas.io.json import json_normalize\n",
        "from collections import Counter\n",
        "import copy\n",
        "import pandas as pd\n",
        "import spacy\n",
        "import numpy as np\n",
        "import seaborn as sns\n",
        "import nltk\n",
        "import tensorflow as tf\n",
        "from sklearn.metrics import roc_auc_score, roc_curve\n",
        "\n",
        "#nltk.download('punkt')\n",
        "from nltk.tokenize import sent_tokenize, word_tokenize \n",
        "from nltk.tokenize import word_tokenize\n",
        "from nltk.corpus import stopwords\n",
        "from nltk.stem.wordnet import WordNetLemmatizer\n",
        "from nltk.stem.porter import PorterStemmer\n",
        "nlp = spacy.load('en')\n",
        "from sklearn.model_selection import train_test_split\n",
        "import pickle\n",
        "\n",
        "from keras import backend as K\n",
        "import matplotlib.pyplot as plt\n",
        "from keras.optimizers import Adam\n",
        "from keras.models import Model\n",
        "from keras.layers import Input, Dense, Embedding, SpatialDropout1D, add, concatenate\n",
        "from keras.layers import CuDNNLSTM, Bidirectional, GlobalMaxPooling1D, GlobalAveragePooling1D\n",
        "from keras.preprocessing import text, sequence\n",
        "from gensim.models import KeyedVectors"
      ],
      "execution_count": 0,
      "outputs": []
    },
    {
      "cell_type": "code",
      "metadata": {
        "id": "kL-QljCkR7Zj",
        "colab_type": "code",
        "outputId": "47f9cec4-a3f3-43fa-ffb2-90bc8362c4f0",
        "colab": {
          "base_uri": "https://localhost:8080/",
          "height": 34
        }
      },
      "source": [
        "from google.colab import drive\n",
        "drive.mount('/content/drive')  "
      ],
      "execution_count": 2,
      "outputs": [
        {
          "output_type": "stream",
          "text": [
            "Drive already mounted at /content/drive; to attempt to forcibly remount, call drive.mount(\"/content/drive\", force_remount=True).\n"
          ],
          "name": "stdout"
        }
      ]
    },
    {
      "cell_type": "code",
      "metadata": {
        "id": "0Z5C-raKSa5l",
        "colab_type": "code",
        "colab": {}
      },
      "source": [
        "reviews_data_train = pd.read_csv('/content/drive/My Drive/Task2_Search/TrainTestFiles/reviews_data_train.csv')\n",
        "reviews_data_test = pd.read_csv('/content/drive/My Drive/Task2_Search/TrainTestFiles/reviews_data_test.csv')"
      ],
      "execution_count": 0,
      "outputs": []
    },
    {
      "cell_type": "code",
      "metadata": {
        "id": "kguLJ8ZHSedS",
        "colab_type": "code",
        "outputId": "0d751cb9-3bb0-4b80-88aa-266f81c3b178",
        "colab": {
          "base_uri": "https://localhost:8080/",
          "height": 440
        }
      },
      "source": [
        "reviews_data_train.head()"
      ],
      "execution_count": 4,
      "outputs": [
        {
          "output_type": "execute_result",
          "data": {
            "text/html": [
              "<div>\n",
              "<style scoped>\n",
              "    .dataframe tbody tr th:only-of-type {\n",
              "        vertical-align: middle;\n",
              "    }\n",
              "\n",
              "    .dataframe tbody tr th {\n",
              "        vertical-align: top;\n",
              "    }\n",
              "\n",
              "    .dataframe thead th {\n",
              "        text-align: right;\n",
              "    }\n",
              "</style>\n",
              "<table border=\"1\" class=\"dataframe\">\n",
              "  <thead>\n",
              "    <tr style=\"text-align: right;\">\n",
              "      <th></th>\n",
              "      <th>review_id</th>\n",
              "      <th>cleaned_text_final</th>\n",
              "      <th>user_rating_of_business</th>\n",
              "      <th>class_useful</th>\n",
              "      <th>business_review_count</th>\n",
              "      <th>business_rating</th>\n",
              "      <th>category_vector</th>\n",
              "      <th>Restaurants</th>\n",
              "      <th>Food</th>\n",
              "      <th>American (Traditional)</th>\n",
              "      <th>Nightlife</th>\n",
              "      <th>Bars</th>\n",
              "      <th>Sandwiches</th>\n",
              "      <th>Fast Food</th>\n",
              "      <th>American (New)</th>\n",
              "      <th>Pizza</th>\n",
              "      <th>Mexican</th>\n",
              "      <th>Burgers</th>\n",
              "      <th>Breakfast &amp; Brunch</th>\n",
              "      <th>Italian</th>\n",
              "      <th>Chinese</th>\n",
              "      <th>Coffee &amp; Tea</th>\n",
              "      <th>Salad</th>\n",
              "      <th>Event Planning &amp; Services</th>\n",
              "      <th>Chicken Wings</th>\n",
              "      <th>Seafood</th>\n",
              "      <th>Sports Bars</th>\n",
              "      <th>Delis</th>\n",
              "      <th>Cafes</th>\n",
              "      <th>Japanese</th>\n",
              "      <th>Caterers</th>\n",
              "      <th>Steakhouses</th>\n",
              "      <th>Sushi Bars</th>\n",
              "      <th>Bakeries</th>\n",
              "      <th>Asian Fusion</th>\n",
              "      <th>Barbeque</th>\n",
              "      <th>Specialty Food</th>\n",
              "      <th>Desserts</th>\n",
              "      <th>Diners</th>\n",
              "      <th>Beer</th>\n",
              "      <th>...</th>\n",
              "      <th>Food Trucks</th>\n",
              "      <th>Korean</th>\n",
              "      <th>Music Venues</th>\n",
              "      <th>Gastropubs</th>\n",
              "      <th>Local Flavor</th>\n",
              "      <th>Chicken Shop</th>\n",
              "      <th>French</th>\n",
              "      <th>Hotels</th>\n",
              "      <th>Tapas/Small Plates</th>\n",
              "      <th>Beer Bar</th>\n",
              "      <th>Hawaiian</th>\n",
              "      <th>Active Life</th>\n",
              "      <th>Soul Food</th>\n",
              "      <th>Dive Bars</th>\n",
              "      <th>Noodles</th>\n",
              "      <th>Donuts</th>\n",
              "      <th>Food Stands</th>\n",
              "      <th>Breweries</th>\n",
              "      <th>Cajun/Creole</th>\n",
              "      <th>Casinos</th>\n",
              "      <th>Cheesesteaks</th>\n",
              "      <th>Caribbean</th>\n",
              "      <th>Tapas Bars</th>\n",
              "      <th>Karaoke</th>\n",
              "      <th>Street Vendors</th>\n",
              "      <th>Pakistani</th>\n",
              "      <th>Halal</th>\n",
              "      <th>Irish</th>\n",
              "      <th>Tacos</th>\n",
              "      <th>Dance Clubs</th>\n",
              "      <th>Fish &amp; Chips</th>\n",
              "      <th>Filipino</th>\n",
              "      <th>Party &amp; Event Planning</th>\n",
              "      <th>Spanish</th>\n",
              "      <th>Meat Shops</th>\n",
              "      <th>Convenience Stores</th>\n",
              "      <th>average_stars</th>\n",
              "      <th>user_review_count</th>\n",
              "      <th>useful_votes_user</th>\n",
              "      <th>fans</th>\n",
              "    </tr>\n",
              "  </thead>\n",
              "  <tbody>\n",
              "    <tr>\n",
              "      <th>0</th>\n",
              "      <td>N2gp3mfhdO9f24X8asEtdA</td>\n",
              "      <td>order pork grinder favorite bone chunks fat gu...</td>\n",
              "      <td>1.0</td>\n",
              "      <td>0</td>\n",
              "      <td>630</td>\n",
              "      <td>4.0</td>\n",
              "      <td>[0, 0, 0, 0, 0, 1, 0, 0, 0, 0, 0, 0, 0, 0, 0, ...</td>\n",
              "      <td>0</td>\n",
              "      <td>0</td>\n",
              "      <td>0</td>\n",
              "      <td>0</td>\n",
              "      <td>0</td>\n",
              "      <td>1</td>\n",
              "      <td>0</td>\n",
              "      <td>0</td>\n",
              "      <td>0</td>\n",
              "      <td>0</td>\n",
              "      <td>0</td>\n",
              "      <td>0</td>\n",
              "      <td>0</td>\n",
              "      <td>0</td>\n",
              "      <td>0</td>\n",
              "      <td>0</td>\n",
              "      <td>0</td>\n",
              "      <td>0</td>\n",
              "      <td>0</td>\n",
              "      <td>0</td>\n",
              "      <td>0</td>\n",
              "      <td>0</td>\n",
              "      <td>0</td>\n",
              "      <td>0</td>\n",
              "      <td>0</td>\n",
              "      <td>0</td>\n",
              "      <td>0</td>\n",
              "      <td>0</td>\n",
              "      <td>0</td>\n",
              "      <td>0</td>\n",
              "      <td>0</td>\n",
              "      <td>0</td>\n",
              "      <td>0</td>\n",
              "      <td>...</td>\n",
              "      <td>0</td>\n",
              "      <td>0</td>\n",
              "      <td>0</td>\n",
              "      <td>0</td>\n",
              "      <td>0</td>\n",
              "      <td>0</td>\n",
              "      <td>0</td>\n",
              "      <td>0</td>\n",
              "      <td>0</td>\n",
              "      <td>0</td>\n",
              "      <td>0</td>\n",
              "      <td>0</td>\n",
              "      <td>0</td>\n",
              "      <td>0</td>\n",
              "      <td>0</td>\n",
              "      <td>0</td>\n",
              "      <td>0</td>\n",
              "      <td>0</td>\n",
              "      <td>0</td>\n",
              "      <td>0</td>\n",
              "      <td>0</td>\n",
              "      <td>0</td>\n",
              "      <td>0</td>\n",
              "      <td>0</td>\n",
              "      <td>0</td>\n",
              "      <td>0</td>\n",
              "      <td>0</td>\n",
              "      <td>0</td>\n",
              "      <td>0</td>\n",
              "      <td>0</td>\n",
              "      <td>0</td>\n",
              "      <td>0</td>\n",
              "      <td>0</td>\n",
              "      <td>0</td>\n",
              "      <td>0</td>\n",
              "      <td>0</td>\n",
              "      <td>3.00</td>\n",
              "      <td>2</td>\n",
              "      <td>1</td>\n",
              "      <td>0</td>\n",
              "    </tr>\n",
              "    <tr>\n",
              "      <th>1</th>\n",
              "      <td>HOuf_liDHJ97Kx1HnDbJ-Q</td>\n",
              "      <td>Every walk restaurant immediately feel home Yo...</td>\n",
              "      <td>4.0</td>\n",
              "      <td>0</td>\n",
              "      <td>253</td>\n",
              "      <td>4.0</td>\n",
              "      <td>[0, 0, 0, 0, 0, 0, 0, 0, 0, 0, 0, 0, 0, 0, 0, ...</td>\n",
              "      <td>0</td>\n",
              "      <td>0</td>\n",
              "      <td>0</td>\n",
              "      <td>0</td>\n",
              "      <td>0</td>\n",
              "      <td>0</td>\n",
              "      <td>0</td>\n",
              "      <td>0</td>\n",
              "      <td>0</td>\n",
              "      <td>0</td>\n",
              "      <td>0</td>\n",
              "      <td>0</td>\n",
              "      <td>0</td>\n",
              "      <td>0</td>\n",
              "      <td>0</td>\n",
              "      <td>0</td>\n",
              "      <td>0</td>\n",
              "      <td>0</td>\n",
              "      <td>0</td>\n",
              "      <td>0</td>\n",
              "      <td>0</td>\n",
              "      <td>0</td>\n",
              "      <td>0</td>\n",
              "      <td>0</td>\n",
              "      <td>0</td>\n",
              "      <td>0</td>\n",
              "      <td>0</td>\n",
              "      <td>0</td>\n",
              "      <td>0</td>\n",
              "      <td>0</td>\n",
              "      <td>0</td>\n",
              "      <td>1</td>\n",
              "      <td>0</td>\n",
              "      <td>...</td>\n",
              "      <td>0</td>\n",
              "      <td>0</td>\n",
              "      <td>0</td>\n",
              "      <td>0</td>\n",
              "      <td>0</td>\n",
              "      <td>0</td>\n",
              "      <td>0</td>\n",
              "      <td>0</td>\n",
              "      <td>0</td>\n",
              "      <td>0</td>\n",
              "      <td>0</td>\n",
              "      <td>0</td>\n",
              "      <td>0</td>\n",
              "      <td>0</td>\n",
              "      <td>0</td>\n",
              "      <td>0</td>\n",
              "      <td>0</td>\n",
              "      <td>0</td>\n",
              "      <td>0</td>\n",
              "      <td>0</td>\n",
              "      <td>0</td>\n",
              "      <td>0</td>\n",
              "      <td>0</td>\n",
              "      <td>0</td>\n",
              "      <td>0</td>\n",
              "      <td>0</td>\n",
              "      <td>0</td>\n",
              "      <td>0</td>\n",
              "      <td>0</td>\n",
              "      <td>0</td>\n",
              "      <td>0</td>\n",
              "      <td>0</td>\n",
              "      <td>0</td>\n",
              "      <td>0</td>\n",
              "      <td>0</td>\n",
              "      <td>0</td>\n",
              "      <td>2.94</td>\n",
              "      <td>33</td>\n",
              "      <td>33</td>\n",
              "      <td>0</td>\n",
              "    </tr>\n",
              "    <tr>\n",
              "      <th>2</th>\n",
              "      <td>mizfLpOErvLapK21q-w4nA</td>\n",
              "      <td>Great food Waiter awesome great view fountains...</td>\n",
              "      <td>5.0</td>\n",
              "      <td>0</td>\n",
              "      <td>1783</td>\n",
              "      <td>4.0</td>\n",
              "      <td>[0, 0, 0, 0, 0, 0, 0, 1, 0, 0, 0, 0, 0, 0, 0, ...</td>\n",
              "      <td>0</td>\n",
              "      <td>0</td>\n",
              "      <td>0</td>\n",
              "      <td>0</td>\n",
              "      <td>0</td>\n",
              "      <td>0</td>\n",
              "      <td>0</td>\n",
              "      <td>1</td>\n",
              "      <td>0</td>\n",
              "      <td>0</td>\n",
              "      <td>0</td>\n",
              "      <td>0</td>\n",
              "      <td>0</td>\n",
              "      <td>0</td>\n",
              "      <td>0</td>\n",
              "      <td>0</td>\n",
              "      <td>0</td>\n",
              "      <td>0</td>\n",
              "      <td>0</td>\n",
              "      <td>0</td>\n",
              "      <td>0</td>\n",
              "      <td>0</td>\n",
              "      <td>0</td>\n",
              "      <td>0</td>\n",
              "      <td>0</td>\n",
              "      <td>0</td>\n",
              "      <td>0</td>\n",
              "      <td>0</td>\n",
              "      <td>0</td>\n",
              "      <td>0</td>\n",
              "      <td>0</td>\n",
              "      <td>0</td>\n",
              "      <td>0</td>\n",
              "      <td>...</td>\n",
              "      <td>0</td>\n",
              "      <td>0</td>\n",
              "      <td>0</td>\n",
              "      <td>0</td>\n",
              "      <td>0</td>\n",
              "      <td>0</td>\n",
              "      <td>0</td>\n",
              "      <td>0</td>\n",
              "      <td>0</td>\n",
              "      <td>0</td>\n",
              "      <td>0</td>\n",
              "      <td>0</td>\n",
              "      <td>0</td>\n",
              "      <td>0</td>\n",
              "      <td>0</td>\n",
              "      <td>0</td>\n",
              "      <td>0</td>\n",
              "      <td>0</td>\n",
              "      <td>0</td>\n",
              "      <td>0</td>\n",
              "      <td>0</td>\n",
              "      <td>0</td>\n",
              "      <td>0</td>\n",
              "      <td>0</td>\n",
              "      <td>0</td>\n",
              "      <td>0</td>\n",
              "      <td>0</td>\n",
              "      <td>0</td>\n",
              "      <td>0</td>\n",
              "      <td>0</td>\n",
              "      <td>0</td>\n",
              "      <td>0</td>\n",
              "      <td>0</td>\n",
              "      <td>0</td>\n",
              "      <td>0</td>\n",
              "      <td>0</td>\n",
              "      <td>3.70</td>\n",
              "      <td>20</td>\n",
              "      <td>16</td>\n",
              "      <td>0</td>\n",
              "    </tr>\n",
              "    <tr>\n",
              "      <th>3</th>\n",
              "      <td>2jURlxgOi7ToO_rdvVrYKg</td>\n",
              "      <td>Every drink That selling point Pei Wei airport...</td>\n",
              "      <td>3.0</td>\n",
              "      <td>1</td>\n",
              "      <td>264</td>\n",
              "      <td>2.5</td>\n",
              "      <td>[1, 0, 0, 0, 0, 0, 0, 0, 0, 0, 0, 0, 0, 0, 0, ...</td>\n",
              "      <td>1</td>\n",
              "      <td>0</td>\n",
              "      <td>0</td>\n",
              "      <td>0</td>\n",
              "      <td>0</td>\n",
              "      <td>0</td>\n",
              "      <td>0</td>\n",
              "      <td>0</td>\n",
              "      <td>0</td>\n",
              "      <td>0</td>\n",
              "      <td>0</td>\n",
              "      <td>0</td>\n",
              "      <td>0</td>\n",
              "      <td>0</td>\n",
              "      <td>0</td>\n",
              "      <td>0</td>\n",
              "      <td>0</td>\n",
              "      <td>0</td>\n",
              "      <td>0</td>\n",
              "      <td>0</td>\n",
              "      <td>0</td>\n",
              "      <td>0</td>\n",
              "      <td>0</td>\n",
              "      <td>0</td>\n",
              "      <td>0</td>\n",
              "      <td>0</td>\n",
              "      <td>0</td>\n",
              "      <td>0</td>\n",
              "      <td>0</td>\n",
              "      <td>0</td>\n",
              "      <td>0</td>\n",
              "      <td>0</td>\n",
              "      <td>0</td>\n",
              "      <td>...</td>\n",
              "      <td>0</td>\n",
              "      <td>0</td>\n",
              "      <td>0</td>\n",
              "      <td>0</td>\n",
              "      <td>0</td>\n",
              "      <td>0</td>\n",
              "      <td>0</td>\n",
              "      <td>0</td>\n",
              "      <td>0</td>\n",
              "      <td>0</td>\n",
              "      <td>0</td>\n",
              "      <td>0</td>\n",
              "      <td>0</td>\n",
              "      <td>0</td>\n",
              "      <td>0</td>\n",
              "      <td>0</td>\n",
              "      <td>0</td>\n",
              "      <td>0</td>\n",
              "      <td>0</td>\n",
              "      <td>0</td>\n",
              "      <td>0</td>\n",
              "      <td>0</td>\n",
              "      <td>0</td>\n",
              "      <td>0</td>\n",
              "      <td>0</td>\n",
              "      <td>0</td>\n",
              "      <td>0</td>\n",
              "      <td>0</td>\n",
              "      <td>0</td>\n",
              "      <td>0</td>\n",
              "      <td>0</td>\n",
              "      <td>0</td>\n",
              "      <td>0</td>\n",
              "      <td>0</td>\n",
              "      <td>0</td>\n",
              "      <td>0</td>\n",
              "      <td>3.53</td>\n",
              "      <td>1886</td>\n",
              "      <td>5868</td>\n",
              "      <td>197</td>\n",
              "    </tr>\n",
              "    <tr>\n",
              "      <th>4</th>\n",
              "      <td>I2A9KstZYQfGfFbECTk_hw</td>\n",
              "      <td>OK avoid toro rough flavor tasted little like ...</td>\n",
              "      <td>4.0</td>\n",
              "      <td>1</td>\n",
              "      <td>263</td>\n",
              "      <td>3.5</td>\n",
              "      <td>[0, 0, 0, 0, 0, 0, 0, 0, 0, 0, 0, 0, 0, 0, 0, ...</td>\n",
              "      <td>0</td>\n",
              "      <td>0</td>\n",
              "      <td>0</td>\n",
              "      <td>0</td>\n",
              "      <td>0</td>\n",
              "      <td>0</td>\n",
              "      <td>0</td>\n",
              "      <td>0</td>\n",
              "      <td>0</td>\n",
              "      <td>0</td>\n",
              "      <td>0</td>\n",
              "      <td>0</td>\n",
              "      <td>0</td>\n",
              "      <td>0</td>\n",
              "      <td>0</td>\n",
              "      <td>0</td>\n",
              "      <td>0</td>\n",
              "      <td>0</td>\n",
              "      <td>1</td>\n",
              "      <td>0</td>\n",
              "      <td>0</td>\n",
              "      <td>0</td>\n",
              "      <td>0</td>\n",
              "      <td>0</td>\n",
              "      <td>0</td>\n",
              "      <td>0</td>\n",
              "      <td>0</td>\n",
              "      <td>0</td>\n",
              "      <td>0</td>\n",
              "      <td>0</td>\n",
              "      <td>0</td>\n",
              "      <td>0</td>\n",
              "      <td>0</td>\n",
              "      <td>...</td>\n",
              "      <td>0</td>\n",
              "      <td>0</td>\n",
              "      <td>0</td>\n",
              "      <td>0</td>\n",
              "      <td>0</td>\n",
              "      <td>0</td>\n",
              "      <td>0</td>\n",
              "      <td>0</td>\n",
              "      <td>0</td>\n",
              "      <td>0</td>\n",
              "      <td>0</td>\n",
              "      <td>0</td>\n",
              "      <td>0</td>\n",
              "      <td>0</td>\n",
              "      <td>0</td>\n",
              "      <td>0</td>\n",
              "      <td>0</td>\n",
              "      <td>0</td>\n",
              "      <td>0</td>\n",
              "      <td>0</td>\n",
              "      <td>0</td>\n",
              "      <td>0</td>\n",
              "      <td>0</td>\n",
              "      <td>0</td>\n",
              "      <td>0</td>\n",
              "      <td>0</td>\n",
              "      <td>0</td>\n",
              "      <td>0</td>\n",
              "      <td>0</td>\n",
              "      <td>0</td>\n",
              "      <td>0</td>\n",
              "      <td>0</td>\n",
              "      <td>0</td>\n",
              "      <td>0</td>\n",
              "      <td>0</td>\n",
              "      <td>0</td>\n",
              "      <td>3.80</td>\n",
              "      <td>353</td>\n",
              "      <td>637</td>\n",
              "      <td>30</td>\n",
              "    </tr>\n",
              "  </tbody>\n",
              "</table>\n",
              "<p>5 rows × 111 columns</p>\n",
              "</div>"
            ],
            "text/plain": [
              "                review_id  ... fans\n",
              "0  N2gp3mfhdO9f24X8asEtdA  ...    0\n",
              "1  HOuf_liDHJ97Kx1HnDbJ-Q  ...    0\n",
              "2  mizfLpOErvLapK21q-w4nA  ...    0\n",
              "3  2jURlxgOi7ToO_rdvVrYKg  ...  197\n",
              "4  I2A9KstZYQfGfFbECTk_hw  ...   30\n",
              "\n",
              "[5 rows x 111 columns]"
            ]
          },
          "metadata": {
            "tags": []
          },
          "execution_count": 4
        }
      ]
    },
    {
      "cell_type": "markdown",
      "metadata": {
        "id": "9GixS5d2YHR4",
        "colab_type": "text"
      },
      "source": [
        "Splitting data in train and validation"
      ]
    },
    {
      "cell_type": "code",
      "metadata": {
        "id": "ovGtUoNUWyHc",
        "colab_type": "code",
        "colab": {}
      },
      "source": [
        "from sklearn.model_selection import train_test_split\n",
        "train,val = train_test_split(reviews_data_train,test_size=0.2, random_state=42)"
      ],
      "execution_count": 0,
      "outputs": []
    },
    {
      "cell_type": "code",
      "metadata": {
        "id": "YvXvD4D6W5wu",
        "colab_type": "code",
        "colab": {}
      },
      "source": [
        "extra_features_train = train[['user_rating_of_business','business_review_count','business_rating','average_stars','user_review_count','useful_votes_user','fans']]\n",
        "extra_features_val = val[['user_rating_of_business','business_review_count','business_rating','average_stars','user_review_count','useful_votes_user','fans']]\n",
        "extra_features_test = reviews_data_test[['user_rating_of_business','business_review_count','business_rating','average_stars','user_review_count','useful_votes_user','fans']]\n",
        "\n",
        "\n",
        "\n",
        "reviews_data_x_train = train[\"cleaned_text_final\"]\n",
        "reviews_data_y_train = train[\"class_useful\"]\n",
        "reviews_data_x_val = val[\"cleaned_text_final\"]\n",
        "reviews_data_y_val = val[\"class_useful\"]\n",
        "reviews_data_x_test = reviews_data_test[\"cleaned_text_final\"]\n",
        "reviews_data_y_test = reviews_data_test[\"class_useful\"]\n",
        "\n",
        "\n",
        "vector_input_train = train['category_vector'].values\n",
        "vector_input_val = val['category_vector'].values\n",
        "vector_input_test = reviews_data_test['category_vector'].values\n",
        "\n"
      ],
      "execution_count": 0,
      "outputs": []
    },
    {
      "cell_type": "code",
      "metadata": {
        "id": "NR1cLwEAZMGB",
        "colab_type": "code",
        "colab": {}
      },
      "source": [
        "extra_features_train = extra_features_train.reset_index().drop([\"index\"],axis=1)\n",
        "extra_features_val = extra_features_val.reset_index().drop([\"index\"],axis=1)\n",
        "extra_features_test = extra_features_test.reset_index().drop([\"index\"],axis=1)"
      ],
      "execution_count": 0,
      "outputs": []
    },
    {
      "cell_type": "code",
      "metadata": {
        "id": "8_TwiEvPSj4E",
        "colab_type": "code",
        "colab": {}
      },
      "source": [
        "extra_features_train_vector = []\n",
        "extra_features_val_vector = []\n",
        "extra_features_test_vector = []\n",
        "\n",
        "for i in range(len(extra_features_train)):\n",
        "  extra_features_train_vector.append(extra_features_train.loc[i].values.tolist())\n",
        "\n",
        "for i in range(len(extra_features_val)):\n",
        "  extra_features_val_vector.append(extra_features_val.loc[i].values.tolist())\n",
        "\n",
        "for i in range(len(extra_features_test)):\n",
        "  extra_features_test_vector.append(extra_features_test.loc[i].values.tolist())\n",
        "\n",
        "\n",
        "extra_features_train_vector = np.array(extra_features_train_vector)\n",
        "extra_features_val_vector = np.array(extra_features_val_vector)\n",
        "extra_features_test_vector = np.array(extra_features_test_vector)"
      ],
      "execution_count": 0,
      "outputs": []
    },
    {
      "cell_type": "code",
      "metadata": {
        "id": "AKbtt9qYbpe5",
        "colab_type": "code",
        "colab": {}
      },
      "source": [
        "reviews_data_x_train = reviews_data_x_train.reset_index().drop([\"index\"],axis=1)\n",
        "reviews_data_x_val = reviews_data_x_val.reset_index().drop([\"index\"],axis=1)\n",
        "reviews_data_y_train = reviews_data_y_train.reset_index().drop([\"index\"],axis=1)\n",
        "reviews_data_y_val = reviews_data_y_val.reset_index().drop([\"index\"],axis=1)"
      ],
      "execution_count": 0,
      "outputs": []
    },
    {
      "cell_type": "markdown",
      "metadata": {
        "id": "Zvit39gRYN3g",
        "colab_type": "text"
      },
      "source": [
        "Using glove for Word Embedding (Reference: https://www.kaggle.com/thousandvoices/simple-lstm)"
      ]
    },
    {
      "cell_type": "code",
      "metadata": {
        "id": "lSWv3nxkS2Gg",
        "colab_type": "code",
        "colab": {}
      },
      "source": [
        "def build_matrix(word_index, path):\n",
        "    embedding_index = KeyedVectors.load(path, mmap='r')\n",
        "    embedding_matrix = np.zeros((len(word_index) + 1, 300))\n",
        "    for word, i in word_index.items():\n",
        "        for candidate in [word, word.lower()]:\n",
        "            if candidate in embedding_index:\n",
        "                embedding_matrix[i] = embedding_index[candidate]\n",
        "                break\n",
        "    return embedding_matrix"
      ],
      "execution_count": 0,
      "outputs": []
    },
    {
      "cell_type": "markdown",
      "metadata": {
        "id": "iM1B_fYwYaTh",
        "colab_type": "text"
      },
      "source": [
        "LSTM Architecture"
      ]
    },
    {
      "cell_type": "code",
      "metadata": {
        "id": "sQlttux7S5AQ",
        "colab_type": "code",
        "colab": {}
      },
      "source": [
        "DENSE_HIDDEN_UNITS1 = 512\n",
        "DENSE_HIDDEN_UNITS2 = 512\n",
        "DENSE_HIDDEN_UNITS3 = 512\n",
        "LSTM_UNITS1 = 256\n",
        "LSTM_UNITS2 = 256\n",
        "\n",
        "def auc(y_true, y_pred):\n",
        "        auc = tf.metrics.auc(y_true, y_pred)[1]\n",
        "        K.get_session().run(tf.local_variables_initializer())\n",
        "        return auc\n",
        "\n",
        "def build_model(embedding_matrix):\n",
        "    \n",
        "    words = Input(shape=(None,))\n",
        "    vectors = Input(shape=(100,),dtype='float32')\n",
        "    new_features = Input(shape=(7,),dtype='float32')\n",
        "\n",
        "    print(new_features.shape)\n",
        "\n",
        "    x = Embedding(*embedding_matrix.shape, weights=[embedding_matrix], trainable=False)(words)\n",
        "    print(x.shape)\n",
        "    drop1 = SpatialDropout1D(0.4)(x)\n",
        "    lstm1 = Bidirectional(CuDNNLSTM(LSTM_UNITS1, return_sequences=True))(drop1)\n",
        "    drop2 = Dropout(0.5)(lstm1)\n",
        "    lstm2 = Bidirectional(CuDNNLSTM(LSTM_UNITS2, return_sequences=True))(drop2)\n",
        "    print(lstm2.shape)\n",
        "    hidden = concatenate([\n",
        "        GlobalMaxPooling1D()(lstm2),\n",
        "        GlobalAveragePooling1D()(lstm2),\n",
        "    ])\n",
        "\n",
        "    dense1 = Dense(DENSE_HIDDEN_UNITS1, activation='relu')(hidden)\n",
        "    drop3 = Dropout(0.5)(dense1)\n",
        "    \n",
        "    vec_dense = Dense(DENSE_HIDDEN_UNITS2, activation='relu')(vectors)\n",
        "    vec_drop = Dropout(0.5)(vec_dense)\n",
        "\n",
        "    extra_dense = Dense(DENSE_HIDDEN_UNITS3, activation='relu')(new_features)\n",
        "    extra_drop = Dropout(0.5)(extra_dense)\n",
        "\n",
        "    merge_vector = concatenate([drop3,vec_drop,extra_drop])\n",
        "\n",
        "    result1 = Dense(1, activation='sigmoid')(merge_vector)  \n",
        "\n",
        "    model = Model(inputs=[words, vectors, new_features], outputs=result1)\n",
        "\n",
        "    model.compile(loss=binary_crossentropy, optimizer=Adam(lr = 0.001),metrics = ['accuracy',auc])\n",
        "\n",
        "    return model"
      ],
      "execution_count": 0,
      "outputs": []
    },
    {
      "cell_type": "code",
      "metadata": {
        "id": "tFuSiKgme3l6",
        "colab_type": "code",
        "colab": {}
      },
      "source": [
        "CHARS_TO_REMOVE = '!\"#$%&()*+,-./:;<=>?@[\\\\]^_`{|}~\\t\\n“”’\\'∞θ÷α•à−β∅³π‘₹´°£€\\×™√²—'\n",
        "\n",
        "MAX_LEN = 220\n",
        "EMBEDDING_FILES = [\n",
        "    '/content/drive/My Drive/Task2_Search/crawl-300d-2M.gensim',\n",
        "    '/content/drive/My Drive/Task2_Search/glove.840B.300d.gensim'\n",
        "]\n",
        "\n",
        "x_train = reviews_data_x_train[\"cleaned_text_final\"].astype(str)\n",
        "y_train = reviews_data_y_train.values\n",
        "x_test = reviews_data_x_test.astype(str)\n",
        "y_test = reviews_data_y_test.values\n",
        "x_val = reviews_data_x_val[\"cleaned_text_final\"].astype(str)\n",
        "y_val = reviews_data_y_val.values\n",
        "\n",
        "tokenizer = text.Tokenizer(filters=CHARS_TO_REMOVE, lower=False)\n",
        "tokenizer.fit_on_texts(list(x_train) + list(x_test) +  list(x_val))\n",
        "\n",
        "x_train = tokenizer.texts_to_sequences(x_train)\n",
        "x_test = tokenizer.texts_to_sequences(x_test)\n",
        "x_val = tokenizer.texts_to_sequences(x_val)\n",
        "\n",
        "x_train = sequence.pad_sequences(x_train, maxlen=MAX_LEN)\n",
        "x_test = sequence.pad_sequences(x_test, maxlen=MAX_LEN)\n",
        "x_val = sequence.pad_sequences(x_val, maxlen=MAX_LEN)"
      ],
      "execution_count": 0,
      "outputs": []
    },
    {
      "cell_type": "code",
      "metadata": {
        "id": "biREAUEmy6d_",
        "colab_type": "code",
        "colab": {
          "base_uri": "https://localhost:8080/",
          "height": 34
        },
        "outputId": "55f4a346-5bac-4519-e69b-217c87d63041"
      },
      "source": [
        "x_train.shape"
      ],
      "execution_count": 54,
      "outputs": [
        {
          "output_type": "execute_result",
          "data": {
            "text/plain": [
              "(214211, 220)"
            ]
          },
          "metadata": {
            "tags": []
          },
          "execution_count": 54
        }
      ]
    },
    {
      "cell_type": "code",
      "metadata": {
        "id": "eXKMZjSie85u",
        "colab_type": "code",
        "outputId": "3219dcf4-32c6-46fe-8850-4fe9342574bc",
        "colab": {
          "base_uri": "https://localhost:8080/",
          "height": 71
        }
      },
      "source": [
        "embedding_matrix = np.concatenate(\n",
        "    [build_matrix(tokenizer.word_index, f) for f in EMBEDDING_FILES], axis=-1)"
      ],
      "execution_count": 55,
      "outputs": [
        {
          "output_type": "stream",
          "text": [
            "/usr/local/lib/python3.6/dist-packages/smart_open/smart_open_lib.py:402: UserWarning: This function is deprecated, use smart_open.open instead. See the migration notes for details: https://github.com/RaRe-Technologies/smart_open/blob/master/README.rst#migrating-to-the-new-open-function\n",
            "  'See the migration notes for details: %s' % _MIGRATION_NOTES_URL\n"
          ],
          "name": "stderr"
        }
      ]
    },
    {
      "cell_type": "code",
      "metadata": {
        "id": "8xvErwIC00CY",
        "colab_type": "code",
        "colab": {
          "base_uri": "https://localhost:8080/",
          "height": 34
        },
        "outputId": "3574928a-ede0-4977-e09e-6a2012aa76de"
      },
      "source": [
        "x_train.shape"
      ],
      "execution_count": 56,
      "outputs": [
        {
          "output_type": "execute_result",
          "data": {
            "text/plain": [
              "(214211, 220)"
            ]
          },
          "metadata": {
            "tags": []
          },
          "execution_count": 56
        }
      ]
    },
    {
      "cell_type": "code",
      "metadata": {
        "id": "bBx0I66ATARl",
        "colab_type": "code",
        "outputId": "f03b2b0e-6ea0-436a-dc3b-23c389437f57",
        "colab": {
          "base_uri": "https://localhost:8080/",
          "height": 68
        }
      },
      "source": [
        "model = build_model(embedding_matrix)\n"
      ],
      "execution_count": 57,
      "outputs": [
        {
          "output_type": "stream",
          "text": [
            "(?, 7)\n",
            "(?, ?, 600)\n",
            "(?, ?, 512)\n"
          ],
          "name": "stdout"
        }
      ]
    },
    {
      "cell_type": "code",
      "metadata": {
        "id": "xdj7a1NZqvvp",
        "colab_type": "code",
        "colab": {}
      },
      "source": [
        "vector_input_train_arr = []\n",
        "for i in vector_input_train:\n",
        "  vector_input_train_arr.append(json.loads(i))\n",
        "vector_input_train_arr = np.array(vector_input_train_arr)\n",
        "\n",
        "vector_input_val_arr = []\n",
        "for j in vector_input_val:\n",
        "  vector_input_val_arr.append(json.loads(j))\n",
        "vector_input_val_arr = np.array(vector_input_val_arr)\n",
        "\n",
        "vector_input_test_arr = []\n",
        "for j in vector_input_test:\n",
        "  vector_input_test_arr.append(json.loads(j))\n",
        "vector_input_test_arr = np.array(vector_input_test_arr)"
      ],
      "execution_count": 0,
      "outputs": []
    },
    {
      "cell_type": "code",
      "metadata": {
        "id": "W_NWfpT2vq0b",
        "colab_type": "code",
        "colab": {
          "base_uri": "https://localhost:8080/",
          "height": 34
        },
        "outputId": "98a9c9ca-8f48-4961-a6ae-f05a3624f797"
      },
      "source": [
        "vector_input_train_arr.shape"
      ],
      "execution_count": 59,
      "outputs": [
        {
          "output_type": "execute_result",
          "data": {
            "text/plain": [
              "(214211, 100)"
            ]
          },
          "metadata": {
            "tags": []
          },
          "execution_count": 59
        }
      ]
    },
    {
      "cell_type": "markdown",
      "metadata": {
        "id": "BtdH4C2NYhCE",
        "colab_type": "text"
      },
      "source": [
        "MODEL TRAINING"
      ]
    },
    {
      "cell_type": "code",
      "metadata": {
        "id": "ltrediQXjtK0",
        "colab_type": "code",
        "outputId": "2cd2d510-fd0e-4d1d-fd37-29050188fd83",
        "colab": {
          "base_uri": "https://localhost:8080/",
          "height": 411
        }
      },
      "source": [
        "model.fit([x_train, vector_input_train_arr, extra_features_train_vector], reviews_data_y_train, batch_size = 100, epochs = 10, validation_data = ([x_val, vector_input_val_arr, extra_features_val_vector], reviews_data_y_val))\n"
      ],
      "execution_count": 60,
      "outputs": [
        {
          "output_type": "stream",
          "text": [
            "Train on 214211 samples, validate on 53553 samples\n",
            "Epoch 1/10\n",
            "214211/214211 [==============================] - 364s 2ms/step - loss: 1.1564 - acc: 0.6510 - auc: 0.6546 - val_loss: 0.5981 - val_acc: 0.6818 - val_auc: 0.6923\n",
            "Epoch 2/10\n",
            "214211/214211 [==============================] - 359s 2ms/step - loss: 0.6030 - acc: 0.6814 - auc: 0.7089 - val_loss: 0.5913 - val_acc: 0.6854 - val_auc: 0.7190\n",
            "Epoch 3/10\n",
            "214211/214211 [==============================] - 360s 2ms/step - loss: 0.5957 - acc: 0.6848 - auc: 0.7252 - val_loss: 0.5839 - val_acc: 0.6900 - val_auc: 0.7299\n",
            "Epoch 4/10\n",
            "214211/214211 [==============================] - 360s 2ms/step - loss: 0.5920 - acc: 0.6868 - auc: 0.7334 - val_loss: 0.5817 - val_acc: 0.6906 - val_auc: 0.7363\n",
            "Epoch 5/10\n",
            "214211/214211 [==============================] - 360s 2ms/step - loss: 0.5863 - acc: 0.6900 - auc: 0.7388 - val_loss: 0.5792 - val_acc: 0.6894 - val_auc: 0.7409\n",
            "Epoch 6/10\n",
            "214211/214211 [==============================] - 359s 2ms/step - loss: 0.5821 - acc: 0.6935 - auc: 0.7430 - val_loss: 0.5716 - val_acc: 0.6911 - val_auc: 0.7448\n",
            "Epoch 7/10\n",
            "214211/214211 [==============================] - 361s 2ms/step - loss: 0.5761 - acc: 0.6967 - auc: 0.7466 - val_loss: 0.5739 - val_acc: 0.6911 - val_auc: 0.7482\n",
            "Epoch 8/10\n",
            "214211/214211 [==============================] - 362s 2ms/step - loss: 0.5699 - acc: 0.7023 - auc: 0.7499 - val_loss: 0.5865 - val_acc: 0.6862 - val_auc: 0.7514\n",
            "Epoch 9/10\n",
            "214211/214211 [==============================] - 360s 2ms/step - loss: 0.5640 - acc: 0.7074 - auc: 0.7530 - val_loss: 0.5837 - val_acc: 0.6824 - val_auc: 0.7543\n",
            "Epoch 10/10\n",
            "214211/214211 [==============================] - 360s 2ms/step - loss: 0.5574 - acc: 0.7135 - auc: 0.7557 - val_loss: 0.5822 - val_acc: 0.6901 - val_auc: 0.7572\n"
          ],
          "name": "stdout"
        },
        {
          "output_type": "execute_result",
          "data": {
            "text/plain": [
              "<keras.callbacks.History at 0x7fb6f0518ba8>"
            ]
          },
          "metadata": {
            "tags": []
          },
          "execution_count": 60
        }
      ]
    },
    {
      "cell_type": "code",
      "metadata": {
        "id": "zbxpz0DpTAWd",
        "colab_type": "code",
        "outputId": "37f56413-948e-4be8-a7aa-35722421b6b7",
        "colab": {
          "base_uri": "https://localhost:8080/",
          "height": 34
        }
      },
      "source": [
        "y_pred = model.predict([x_test, vector_input_test_arr, extra_features_test_vector])\n",
        "print(\"AUC Score:\", roc_auc_score(y_test, y_pred))"
      ],
      "execution_count": 62,
      "outputs": [
        {
          "output_type": "stream",
          "text": [
            "AUC Score: 0.7713008604631586\n"
          ],
          "name": "stdout"
        }
      ]
    },
    {
      "cell_type": "code",
      "metadata": {
        "id": "HV62aRdxFBeU",
        "colab_type": "code",
        "colab": {
          "base_uri": "https://localhost:8080/",
          "height": 296
        },
        "outputId": "0398ef56-2418-4fb3-f96d-46d7dd2f3b11"
      },
      "source": [
        "\n",
        "rs_auc = roc_auc_score(y_test, y_pred)\n",
        "print('Final Model: ROC AUC=%.3f' % (rs_auc))\n",
        "\n",
        "\n",
        "rs_fpr, rs_tpr, _ = roc_curve(y_test, y_pred) _ = roc_curve(y_test, y_pred)\n",
        "\n",
        "\n",
        "plt.plot(rs_fpr, rs_tpr, _ = roc_curve(y_test, y_pred),  label='Final Model: Reviews + Other Features')\n",
        "\n",
        "\n",
        "plt.xlabel('False Positive Rate')\n",
        "plt.ylabel('True Positive Rate')\n",
        "\n",
        "plt.legend()\n",
        "\n",
        "plt.show()"
      ],
      "execution_count": 69,
      "outputs": [
        {
          "output_type": "stream",
          "text": [
            "Final Model: ROC AUC=0.771\n"
          ],
          "name": "stdout"
        },
        {
          "output_type": "display_data",
          "data": {
            "image/png": "[encoded data removed]",
            "text/plain": [
              "<Figure size 432x288 with 1 Axes>"
            ]
          },
          "metadata": {
            "tags": []
          }
        }
      ]
    },
    {
      "cell_type": "code",
      "metadata": {
        "id": "zcEUOlNvf7cC",
        "colab_type": "code",
        "colab": {
          "base_uri": "https://localhost:8080/",
          "height": 1000
        },
        "outputId": "d0d14a0f-088e-43d0-981b-857a3176cd6b"
      },
      "source": [
        "plot_model(model, to_file='/content/drive/My Drive/Task2_Search/Saved_Models/Architecture_FinalModel.png')"
      ],
      "execution_count": 63,
      "outputs": [
        {
          "output_type": "execute_result",
          "data": {
            "image/png": "[encoded data removed]",
            "text/plain": [
              "<IPython.core.display.Image object>"
            ]
          },
          "metadata": {
            "tags": []
          },
          "execution_count": 63
        }
      ]
    }
  ]
}