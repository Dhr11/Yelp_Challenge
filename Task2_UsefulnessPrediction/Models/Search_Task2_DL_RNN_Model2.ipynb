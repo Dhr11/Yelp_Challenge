{
  "nbformat": 4,
  "nbformat_minor": 0,
  "metadata": {
    "colab": {
      "name": "Search_Task2_DL_RNN_Model2",
      "provenance": [],
      "collapsed_sections": []
    },
    "kernelspec": {
      "name": "python3",
      "display_name": "Python 3"
    },
    "accelerator": "GPU"
  },
  "cells": [
    {
      "cell_type": "markdown",
      "metadata": {
        "id": "h2bMxE-XYx_D",
        "colab_type": "text"
      },
      "source": [
        "## LSTM on only reviews for predicting usefulness"
      ]
    },
    {
      "cell_type": "code",
      "metadata": {
        "id": "tXBX3a3RPvDp",
        "colab_type": "code",
        "colab": {}
      },
      "source": [
        "from keras.preprocessing import sequence\n",
        "from keras.utils import plot_model\n",
        "from keras.models import Sequential\n",
        "from keras.layers import Dense, Dropout, Embedding, LSTM, Bidirectional\n",
        "from keras.callbacks import ReduceLROnPlateau, ModelCheckpoint\n",
        "from keras.losses import binary_crossentropy\n",
        "from keras.datasets import imdb\n",
        "import json\n",
        "from pandas.io.json import json_normalize\n",
        "from collections import Counter\n",
        "import copy\n",
        "import pandas as pd\n",
        "import spacy\n",
        "import numpy as np\n",
        "import seaborn as sns\n",
        "import nltk\n",
        "import tensorflow as tf\n",
        "from sklearn.metrics import roc_auc_score,roc_curve\n",
        "\n",
        "#nltk.download('punkt')\n",
        "from nltk.tokenize import sent_tokenize, word_tokenize \n",
        "from nltk.tokenize import word_tokenize\n",
        "from nltk.corpus import stopwords\n",
        "from nltk.stem.wordnet import WordNetLemmatizer\n",
        "from nltk.stem.porter import PorterStemmer\n",
        "nlp = spacy.load('en')\n",
        "from sklearn.model_selection import train_test_split\n",
        "import pickle\n",
        "\n",
        "from keras import backend as K\n",
        "import matplotlib.pyplot as plt\n",
        "from keras.optimizers import Adam\n",
        "from keras.models import Model\n",
        "from keras.layers import Input, Dense, Embedding, SpatialDropout1D, add, concatenate\n",
        "from keras.layers import CuDNNLSTM, Bidirectional, GlobalMaxPooling1D, GlobalAveragePooling1D\n",
        "from keras.preprocessing import text, sequence\n",
        "from gensim.models import KeyedVectors"
      ],
      "execution_count": 0,
      "outputs": []
    },
    {
      "cell_type": "code",
      "metadata": {
        "id": "kL-QljCkR7Zj",
        "colab_type": "code",
        "outputId": "80889d45-1529-430c-89fa-803b3d00c481",
        "colab": {
          "base_uri": "https://localhost:8080/",
          "height": 122
        }
      },
      "source": [
        "from google.colab import drive\n",
        "drive.mount('/content/drive')  "
      ],
      "execution_count": 2,
      "outputs": [
        {
          "output_type": "stream",
          "text": [
            "Go to this URL in a browser: https://accounts.google.com/o/oauth2/auth?client_id=947318989803-6bn6qk8qdgf4n4g3pfee6491hc0brc4i.apps.googleusercontent.com&redirect_uri=urn%3aietf%3awg%3aoauth%3a2.0%3aoob&response_type=code&scope=email%20https%3a%2f%2fwww.googleapis.com%2fauth%2fdocs.test%20https%3a%2f%2fwww.googleapis.com%2fauth%2fdrive%20https%3a%2f%2fwww.googleapis.com%2fauth%2fdrive.photos.readonly%20https%3a%2f%2fwww.googleapis.com%2fauth%2fpeopleapi.readonly\n",
            "\n",
            "Enter your authorization code:\n",
            "··········\n",
            "Mounted at /content/drive\n"
          ],
          "name": "stdout"
        }
      ]
    },
    {
      "cell_type": "code",
      "metadata": {
        "id": "0Z5C-raKSa5l",
        "colab_type": "code",
        "colab": {}
      },
      "source": [
        "reviews_data_train = pd.read_csv('/content/drive/My Drive/Task2_Search/TrainTestFiles/reviews_data_train.csv')\n",
        "reviews_data_test = pd.read_csv('/content/drive/My Drive/Task2_Search/TrainTestFiles/reviews_data_test.csv')"
      ],
      "execution_count": 0,
      "outputs": []
    },
    {
      "cell_type": "code",
      "metadata": {
        "id": "kguLJ8ZHSedS",
        "colab_type": "code",
        "outputId": "95ecf6e2-acdc-45bb-b058-08b303871067",
        "colab": {
          "base_uri": "https://localhost:8080/",
          "height": 440
        }
      },
      "source": [
        "reviews_data_train.head()"
      ],
      "execution_count": 6,
      "outputs": [
        {
          "output_type": "execute_result",
          "data": {
            "text/html": [
              "<div>\n",
              "<style scoped>\n",
              "    .dataframe tbody tr th:only-of-type {\n",
              "        vertical-align: middle;\n",
              "    }\n",
              "\n",
              "    .dataframe tbody tr th {\n",
              "        vertical-align: top;\n",
              "    }\n",
              "\n",
              "    .dataframe thead th {\n",
              "        text-align: right;\n",
              "    }\n",
              "</style>\n",
              "<table border=\"1\" class=\"dataframe\">\n",
              "  <thead>\n",
              "    <tr style=\"text-align: right;\">\n",
              "      <th></th>\n",
              "      <th>review_id</th>\n",
              "      <th>cleaned_text_final</th>\n",
              "      <th>user_rating_of_business</th>\n",
              "      <th>class_useful</th>\n",
              "      <th>business_review_count</th>\n",
              "      <th>business_rating</th>\n",
              "      <th>category_vector</th>\n",
              "      <th>Restaurants</th>\n",
              "      <th>Food</th>\n",
              "      <th>American (Traditional)</th>\n",
              "      <th>Nightlife</th>\n",
              "      <th>Bars</th>\n",
              "      <th>Sandwiches</th>\n",
              "      <th>Fast Food</th>\n",
              "      <th>American (New)</th>\n",
              "      <th>Pizza</th>\n",
              "      <th>Mexican</th>\n",
              "      <th>Burgers</th>\n",
              "      <th>Breakfast &amp; Brunch</th>\n",
              "      <th>Italian</th>\n",
              "      <th>Chinese</th>\n",
              "      <th>Coffee &amp; Tea</th>\n",
              "      <th>Salad</th>\n",
              "      <th>Event Planning &amp; Services</th>\n",
              "      <th>Chicken Wings</th>\n",
              "      <th>Seafood</th>\n",
              "      <th>Sports Bars</th>\n",
              "      <th>Delis</th>\n",
              "      <th>Cafes</th>\n",
              "      <th>Japanese</th>\n",
              "      <th>Caterers</th>\n",
              "      <th>Steakhouses</th>\n",
              "      <th>Sushi Bars</th>\n",
              "      <th>Bakeries</th>\n",
              "      <th>Asian Fusion</th>\n",
              "      <th>Barbeque</th>\n",
              "      <th>Specialty Food</th>\n",
              "      <th>Desserts</th>\n",
              "      <th>Diners</th>\n",
              "      <th>Beer</th>\n",
              "      <th>...</th>\n",
              "      <th>Food Trucks</th>\n",
              "      <th>Korean</th>\n",
              "      <th>Music Venues</th>\n",
              "      <th>Gastropubs</th>\n",
              "      <th>Local Flavor</th>\n",
              "      <th>Chicken Shop</th>\n",
              "      <th>French</th>\n",
              "      <th>Hotels</th>\n",
              "      <th>Tapas/Small Plates</th>\n",
              "      <th>Beer Bar</th>\n",
              "      <th>Hawaiian</th>\n",
              "      <th>Active Life</th>\n",
              "      <th>Soul Food</th>\n",
              "      <th>Dive Bars</th>\n",
              "      <th>Noodles</th>\n",
              "      <th>Donuts</th>\n",
              "      <th>Food Stands</th>\n",
              "      <th>Breweries</th>\n",
              "      <th>Cajun/Creole</th>\n",
              "      <th>Casinos</th>\n",
              "      <th>Cheesesteaks</th>\n",
              "      <th>Caribbean</th>\n",
              "      <th>Tapas Bars</th>\n",
              "      <th>Karaoke</th>\n",
              "      <th>Street Vendors</th>\n",
              "      <th>Pakistani</th>\n",
              "      <th>Halal</th>\n",
              "      <th>Irish</th>\n",
              "      <th>Tacos</th>\n",
              "      <th>Dance Clubs</th>\n",
              "      <th>Fish &amp; Chips</th>\n",
              "      <th>Filipino</th>\n",
              "      <th>Party &amp; Event Planning</th>\n",
              "      <th>Spanish</th>\n",
              "      <th>Meat Shops</th>\n",
              "      <th>Convenience Stores</th>\n",
              "      <th>average_stars</th>\n",
              "      <th>user_review_count</th>\n",
              "      <th>useful_votes_user</th>\n",
              "      <th>fans</th>\n",
              "    </tr>\n",
              "  </thead>\n",
              "  <tbody>\n",
              "    <tr>\n",
              "      <th>0</th>\n",
              "      <td>N2gp3mfhdO9f24X8asEtdA</td>\n",
              "      <td>order pork grinder favorite bone chunks fat gu...</td>\n",
              "      <td>1.0</td>\n",
              "      <td>0</td>\n",
              "      <td>630</td>\n",
              "      <td>4.0</td>\n",
              "      <td>[0, 0, 0, 0, 0, 1, 0, 0, 0, 0, 0, 0, 0, 0, 0, ...</td>\n",
              "      <td>0</td>\n",
              "      <td>0</td>\n",
              "      <td>0</td>\n",
              "      <td>0</td>\n",
              "      <td>0</td>\n",
              "      <td>1</td>\n",
              "      <td>0</td>\n",
              "      <td>0</td>\n",
              "      <td>0</td>\n",
              "      <td>0</td>\n",
              "      <td>0</td>\n",
              "      <td>0</td>\n",
              "      <td>0</td>\n",
              "      <td>0</td>\n",
              "      <td>0</td>\n",
              "      <td>0</td>\n",
              "      <td>0</td>\n",
              "      <td>0</td>\n",
              "      <td>0</td>\n",
              "      <td>0</td>\n",
              "      <td>0</td>\n",
              "      <td>0</td>\n",
              "      <td>0</td>\n",
              "      <td>0</td>\n",
              "      <td>0</td>\n",
              "      <td>0</td>\n",
              "      <td>0</td>\n",
              "      <td>0</td>\n",
              "      <td>0</td>\n",
              "      <td>0</td>\n",
              "      <td>0</td>\n",
              "      <td>0</td>\n",
              "      <td>0</td>\n",
              "      <td>...</td>\n",
              "      <td>0</td>\n",
              "      <td>0</td>\n",
              "      <td>0</td>\n",
              "      <td>0</td>\n",
              "      <td>0</td>\n",
              "      <td>0</td>\n",
              "      <td>0</td>\n",
              "      <td>0</td>\n",
              "      <td>0</td>\n",
              "      <td>0</td>\n",
              "      <td>0</td>\n",
              "      <td>0</td>\n",
              "      <td>0</td>\n",
              "      <td>0</td>\n",
              "      <td>0</td>\n",
              "      <td>0</td>\n",
              "      <td>0</td>\n",
              "      <td>0</td>\n",
              "      <td>0</td>\n",
              "      <td>0</td>\n",
              "      <td>0</td>\n",
              "      <td>0</td>\n",
              "      <td>0</td>\n",
              "      <td>0</td>\n",
              "      <td>0</td>\n",
              "      <td>0</td>\n",
              "      <td>0</td>\n",
              "      <td>0</td>\n",
              "      <td>0</td>\n",
              "      <td>0</td>\n",
              "      <td>0</td>\n",
              "      <td>0</td>\n",
              "      <td>0</td>\n",
              "      <td>0</td>\n",
              "      <td>0</td>\n",
              "      <td>0</td>\n",
              "      <td>3.00</td>\n",
              "      <td>2</td>\n",
              "      <td>1</td>\n",
              "      <td>0</td>\n",
              "    </tr>\n",
              "    <tr>\n",
              "      <th>1</th>\n",
              "      <td>HOuf_liDHJ97Kx1HnDbJ-Q</td>\n",
              "      <td>Every walk restaurant immediately feel home Yo...</td>\n",
              "      <td>4.0</td>\n",
              "      <td>0</td>\n",
              "      <td>253</td>\n",
              "      <td>4.0</td>\n",
              "      <td>[0, 0, 0, 0, 0, 0, 0, 0, 0, 0, 0, 0, 0, 0, 0, ...</td>\n",
              "      <td>0</td>\n",
              "      <td>0</td>\n",
              "      <td>0</td>\n",
              "      <td>0</td>\n",
              "      <td>0</td>\n",
              "      <td>0</td>\n",
              "      <td>0</td>\n",
              "      <td>0</td>\n",
              "      <td>0</td>\n",
              "      <td>0</td>\n",
              "      <td>0</td>\n",
              "      <td>0</td>\n",
              "      <td>0</td>\n",
              "      <td>0</td>\n",
              "      <td>0</td>\n",
              "      <td>0</td>\n",
              "      <td>0</td>\n",
              "      <td>0</td>\n",
              "      <td>0</td>\n",
              "      <td>0</td>\n",
              "      <td>0</td>\n",
              "      <td>0</td>\n",
              "      <td>0</td>\n",
              "      <td>0</td>\n",
              "      <td>0</td>\n",
              "      <td>0</td>\n",
              "      <td>0</td>\n",
              "      <td>0</td>\n",
              "      <td>0</td>\n",
              "      <td>0</td>\n",
              "      <td>0</td>\n",
              "      <td>1</td>\n",
              "      <td>0</td>\n",
              "      <td>...</td>\n",
              "      <td>0</td>\n",
              "      <td>0</td>\n",
              "      <td>0</td>\n",
              "      <td>0</td>\n",
              "      <td>0</td>\n",
              "      <td>0</td>\n",
              "      <td>0</td>\n",
              "      <td>0</td>\n",
              "      <td>0</td>\n",
              "      <td>0</td>\n",
              "      <td>0</td>\n",
              "      <td>0</td>\n",
              "      <td>0</td>\n",
              "      <td>0</td>\n",
              "      <td>0</td>\n",
              "      <td>0</td>\n",
              "      <td>0</td>\n",
              "      <td>0</td>\n",
              "      <td>0</td>\n",
              "      <td>0</td>\n",
              "      <td>0</td>\n",
              "      <td>0</td>\n",
              "      <td>0</td>\n",
              "      <td>0</td>\n",
              "      <td>0</td>\n",
              "      <td>0</td>\n",
              "      <td>0</td>\n",
              "      <td>0</td>\n",
              "      <td>0</td>\n",
              "      <td>0</td>\n",
              "      <td>0</td>\n",
              "      <td>0</td>\n",
              "      <td>0</td>\n",
              "      <td>0</td>\n",
              "      <td>0</td>\n",
              "      <td>0</td>\n",
              "      <td>2.94</td>\n",
              "      <td>33</td>\n",
              "      <td>33</td>\n",
              "      <td>0</td>\n",
              "    </tr>\n",
              "    <tr>\n",
              "      <th>2</th>\n",
              "      <td>mizfLpOErvLapK21q-w4nA</td>\n",
              "      <td>Great food Waiter awesome great view fountains...</td>\n",
              "      <td>5.0</td>\n",
              "      <td>0</td>\n",
              "      <td>1783</td>\n",
              "      <td>4.0</td>\n",
              "      <td>[0, 0, 0, 0, 0, 0, 0, 1, 0, 0, 0, 0, 0, 0, 0, ...</td>\n",
              "      <td>0</td>\n",
              "      <td>0</td>\n",
              "      <td>0</td>\n",
              "      <td>0</td>\n",
              "      <td>0</td>\n",
              "      <td>0</td>\n",
              "      <td>0</td>\n",
              "      <td>1</td>\n",
              "      <td>0</td>\n",
              "      <td>0</td>\n",
              "      <td>0</td>\n",
              "      <td>0</td>\n",
              "      <td>0</td>\n",
              "      <td>0</td>\n",
              "      <td>0</td>\n",
              "      <td>0</td>\n",
              "      <td>0</td>\n",
              "      <td>0</td>\n",
              "      <td>0</td>\n",
              "      <td>0</td>\n",
              "      <td>0</td>\n",
              "      <td>0</td>\n",
              "      <td>0</td>\n",
              "      <td>0</td>\n",
              "      <td>0</td>\n",
              "      <td>0</td>\n",
              "      <td>0</td>\n",
              "      <td>0</td>\n",
              "      <td>0</td>\n",
              "      <td>0</td>\n",
              "      <td>0</td>\n",
              "      <td>0</td>\n",
              "      <td>0</td>\n",
              "      <td>...</td>\n",
              "      <td>0</td>\n",
              "      <td>0</td>\n",
              "      <td>0</td>\n",
              "      <td>0</td>\n",
              "      <td>0</td>\n",
              "      <td>0</td>\n",
              "      <td>0</td>\n",
              "      <td>0</td>\n",
              "      <td>0</td>\n",
              "      <td>0</td>\n",
              "      <td>0</td>\n",
              "      <td>0</td>\n",
              "      <td>0</td>\n",
              "      <td>0</td>\n",
              "      <td>0</td>\n",
              "      <td>0</td>\n",
              "      <td>0</td>\n",
              "      <td>0</td>\n",
              "      <td>0</td>\n",
              "      <td>0</td>\n",
              "      <td>0</td>\n",
              "      <td>0</td>\n",
              "      <td>0</td>\n",
              "      <td>0</td>\n",
              "      <td>0</td>\n",
              "      <td>0</td>\n",
              "      <td>0</td>\n",
              "      <td>0</td>\n",
              "      <td>0</td>\n",
              "      <td>0</td>\n",
              "      <td>0</td>\n",
              "      <td>0</td>\n",
              "      <td>0</td>\n",
              "      <td>0</td>\n",
              "      <td>0</td>\n",
              "      <td>0</td>\n",
              "      <td>3.70</td>\n",
              "      <td>20</td>\n",
              "      <td>16</td>\n",
              "      <td>0</td>\n",
              "    </tr>\n",
              "    <tr>\n",
              "      <th>3</th>\n",
              "      <td>2jURlxgOi7ToO_rdvVrYKg</td>\n",
              "      <td>Every drink That selling point Pei Wei airport...</td>\n",
              "      <td>3.0</td>\n",
              "      <td>1</td>\n",
              "      <td>264</td>\n",
              "      <td>2.5</td>\n",
              "      <td>[1, 0, 0, 0, 0, 0, 0, 0, 0, 0, 0, 0, 0, 0, 0, ...</td>\n",
              "      <td>1</td>\n",
              "      <td>0</td>\n",
              "      <td>0</td>\n",
              "      <td>0</td>\n",
              "      <td>0</td>\n",
              "      <td>0</td>\n",
              "      <td>0</td>\n",
              "      <td>0</td>\n",
              "      <td>0</td>\n",
              "      <td>0</td>\n",
              "      <td>0</td>\n",
              "      <td>0</td>\n",
              "      <td>0</td>\n",
              "      <td>0</td>\n",
              "      <td>0</td>\n",
              "      <td>0</td>\n",
              "      <td>0</td>\n",
              "      <td>0</td>\n",
              "      <td>0</td>\n",
              "      <td>0</td>\n",
              "      <td>0</td>\n",
              "      <td>0</td>\n",
              "      <td>0</td>\n",
              "      <td>0</td>\n",
              "      <td>0</td>\n",
              "      <td>0</td>\n",
              "      <td>0</td>\n",
              "      <td>0</td>\n",
              "      <td>0</td>\n",
              "      <td>0</td>\n",
              "      <td>0</td>\n",
              "      <td>0</td>\n",
              "      <td>0</td>\n",
              "      <td>...</td>\n",
              "      <td>0</td>\n",
              "      <td>0</td>\n",
              "      <td>0</td>\n",
              "      <td>0</td>\n",
              "      <td>0</td>\n",
              "      <td>0</td>\n",
              "      <td>0</td>\n",
              "      <td>0</td>\n",
              "      <td>0</td>\n",
              "      <td>0</td>\n",
              "      <td>0</td>\n",
              "      <td>0</td>\n",
              "      <td>0</td>\n",
              "      <td>0</td>\n",
              "      <td>0</td>\n",
              "      <td>0</td>\n",
              "      <td>0</td>\n",
              "      <td>0</td>\n",
              "      <td>0</td>\n",
              "      <td>0</td>\n",
              "      <td>0</td>\n",
              "      <td>0</td>\n",
              "      <td>0</td>\n",
              "      <td>0</td>\n",
              "      <td>0</td>\n",
              "      <td>0</td>\n",
              "      <td>0</td>\n",
              "      <td>0</td>\n",
              "      <td>0</td>\n",
              "      <td>0</td>\n",
              "      <td>0</td>\n",
              "      <td>0</td>\n",
              "      <td>0</td>\n",
              "      <td>0</td>\n",
              "      <td>0</td>\n",
              "      <td>0</td>\n",
              "      <td>3.53</td>\n",
              "      <td>1886</td>\n",
              "      <td>5868</td>\n",
              "      <td>197</td>\n",
              "    </tr>\n",
              "    <tr>\n",
              "      <th>4</th>\n",
              "      <td>I2A9KstZYQfGfFbECTk_hw</td>\n",
              "      <td>OK avoid toro rough flavor tasted little like ...</td>\n",
              "      <td>4.0</td>\n",
              "      <td>1</td>\n",
              "      <td>263</td>\n",
              "      <td>3.5</td>\n",
              "      <td>[0, 0, 0, 0, 0, 0, 0, 0, 0, 0, 0, 0, 0, 0, 0, ...</td>\n",
              "      <td>0</td>\n",
              "      <td>0</td>\n",
              "      <td>0</td>\n",
              "      <td>0</td>\n",
              "      <td>0</td>\n",
              "      <td>0</td>\n",
              "      <td>0</td>\n",
              "      <td>0</td>\n",
              "      <td>0</td>\n",
              "      <td>0</td>\n",
              "      <td>0</td>\n",
              "      <td>0</td>\n",
              "      <td>0</td>\n",
              "      <td>0</td>\n",
              "      <td>0</td>\n",
              "      <td>0</td>\n",
              "      <td>0</td>\n",
              "      <td>0</td>\n",
              "      <td>1</td>\n",
              "      <td>0</td>\n",
              "      <td>0</td>\n",
              "      <td>0</td>\n",
              "      <td>0</td>\n",
              "      <td>0</td>\n",
              "      <td>0</td>\n",
              "      <td>0</td>\n",
              "      <td>0</td>\n",
              "      <td>0</td>\n",
              "      <td>0</td>\n",
              "      <td>0</td>\n",
              "      <td>0</td>\n",
              "      <td>0</td>\n",
              "      <td>0</td>\n",
              "      <td>...</td>\n",
              "      <td>0</td>\n",
              "      <td>0</td>\n",
              "      <td>0</td>\n",
              "      <td>0</td>\n",
              "      <td>0</td>\n",
              "      <td>0</td>\n",
              "      <td>0</td>\n",
              "      <td>0</td>\n",
              "      <td>0</td>\n",
              "      <td>0</td>\n",
              "      <td>0</td>\n",
              "      <td>0</td>\n",
              "      <td>0</td>\n",
              "      <td>0</td>\n",
              "      <td>0</td>\n",
              "      <td>0</td>\n",
              "      <td>0</td>\n",
              "      <td>0</td>\n",
              "      <td>0</td>\n",
              "      <td>0</td>\n",
              "      <td>0</td>\n",
              "      <td>0</td>\n",
              "      <td>0</td>\n",
              "      <td>0</td>\n",
              "      <td>0</td>\n",
              "      <td>0</td>\n",
              "      <td>0</td>\n",
              "      <td>0</td>\n",
              "      <td>0</td>\n",
              "      <td>0</td>\n",
              "      <td>0</td>\n",
              "      <td>0</td>\n",
              "      <td>0</td>\n",
              "      <td>0</td>\n",
              "      <td>0</td>\n",
              "      <td>0</td>\n",
              "      <td>3.80</td>\n",
              "      <td>353</td>\n",
              "      <td>637</td>\n",
              "      <td>30</td>\n",
              "    </tr>\n",
              "  </tbody>\n",
              "</table>\n",
              "<p>5 rows × 111 columns</p>\n",
              "</div>"
            ],
            "text/plain": [
              "                review_id  ... fans\n",
              "0  N2gp3mfhdO9f24X8asEtdA  ...    0\n",
              "1  HOuf_liDHJ97Kx1HnDbJ-Q  ...    0\n",
              "2  mizfLpOErvLapK21q-w4nA  ...    0\n",
              "3  2jURlxgOi7ToO_rdvVrYKg  ...  197\n",
              "4  I2A9KstZYQfGfFbECTk_hw  ...   30\n",
              "\n",
              "[5 rows x 111 columns]"
            ]
          },
          "metadata": {
            "tags": []
          },
          "execution_count": 6
        }
      ]
    },
    {
      "cell_type": "markdown",
      "metadata": {
        "id": "N8ZWJoVdY6AM",
        "colab_type": "text"
      },
      "source": [
        "Train validation split"
      ]
    },
    {
      "cell_type": "code",
      "metadata": {
        "id": "ovGtUoNUWyHc",
        "colab_type": "code",
        "colab": {}
      },
      "source": [
        "from sklearn.model_selection import train_test_split\n",
        "train,val = train_test_split(reviews_data_train,test_size=0.2, random_state=42)"
      ],
      "execution_count": 0,
      "outputs": []
    },
    {
      "cell_type": "code",
      "metadata": {
        "id": "YvXvD4D6W5wu",
        "colab_type": "code",
        "colab": {}
      },
      "source": [
        "\n",
        "\n",
        "reviews_data_x_train = train[\"cleaned_text_final\"]\n",
        "reviews_data_y_train = train[\"class_useful\"]\n",
        "reviews_data_x_val = val[\"cleaned_text_final\"]\n",
        "reviews_data_y_val = val[\"class_useful\"]\n",
        "reviews_data_x_test = reviews_data_test[\"cleaned_text_final\"]\n",
        "reviews_data_y_test = reviews_data_test[\"class_useful\"]\n",
        "\n",
        "\n"
      ],
      "execution_count": 0,
      "outputs": []
    },
    {
      "cell_type": "code",
      "metadata": {
        "id": "AKbtt9qYbpe5",
        "colab_type": "code",
        "colab": {}
      },
      "source": [
        "reviews_data_x_train = reviews_data_x_train.reset_index().drop([\"index\"],axis=1)\n",
        "reviews_data_x_val = reviews_data_x_val.reset_index().drop([\"index\"],axis=1)\n",
        "reviews_data_y_train = reviews_data_y_train.reset_index().drop([\"index\"],axis=1)\n",
        "reviews_data_y_val = reviews_data_y_val.reset_index().drop([\"index\"],axis=1)"
      ],
      "execution_count": 0,
      "outputs": []
    },
    {
      "cell_type": "markdown",
      "metadata": {
        "id": "HX2pIXgvY9IB",
        "colab_type": "text"
      },
      "source": [
        "Using glove for Word Embedding (Reference: https://www.kaggle.com/thousandvoices/simple-lstm)"
      ]
    },
    {
      "cell_type": "code",
      "metadata": {
        "id": "lSWv3nxkS2Gg",
        "colab_type": "code",
        "colab": {}
      },
      "source": [
        "def build_matrix(word_index, path):\n",
        "    embedding_index = KeyedVectors.load(path, mmap='r')\n",
        "    embedding_matrix = np.zeros((len(word_index) + 1, 300))\n",
        "    for word, i in word_index.items():\n",
        "        for candidate in [word, word.lower()]:\n",
        "            if candidate in embedding_index:\n",
        "                embedding_matrix[i] = embedding_index[candidate]\n",
        "                break\n",
        "    return embedding_matrix"
      ],
      "execution_count": 0,
      "outputs": []
    },
    {
      "cell_type": "code",
      "metadata": {
        "id": "sQlttux7S5AQ",
        "colab_type": "code",
        "colab": {}
      },
      "source": [
        "DENSE_HIDDEN_UNITS1 = 512\n",
        "DENSE_HIDDEN_UNITS2 = 512\n",
        "DENSE_HIDDEN_UNITS3 = 512\n",
        "LSTM_UNITS1 = 256\n",
        "LSTM_UNITS2 = 256\n",
        "\n",
        "def auc(y_true, y_pred):\n",
        "        auc = tf.metrics.auc(y_true, y_pred)[1]\n",
        "        K.get_session().run(tf.local_variables_initializer())\n",
        "        return auc\n",
        "\n",
        "def build_model(embedding_matrix):\n",
        "    \n",
        "    words = Input(shape=(None,))\n",
        "\n",
        "    x = Embedding(*embedding_matrix.shape, weights=[embedding_matrix], trainable=False)(words)\n",
        "    #print(x.shape)\n",
        "    drop1 = SpatialDropout1D(0.4)(x)\n",
        "    lstm1 = Bidirectional(CuDNNLSTM(LSTM_UNITS1, return_sequences=True))(drop1)\n",
        "    drop2 = Dropout(0.5)(lstm1)\n",
        "    lstm2 = Bidirectional(CuDNNLSTM(LSTM_UNITS2, return_sequences=True))(drop2)\n",
        "    #print(lstm2.shape)\n",
        "    hidden = concatenate([\n",
        "        GlobalMaxPooling1D()(lstm2),\n",
        "        GlobalAveragePooling1D()(lstm2),\n",
        "    ])\n",
        "    \n",
        "    dense1 = Dense(DENSE_HIDDEN_UNITS1, activation='relu')(hidden)\n",
        "    drop3 = Dropout(0.5)(dense1)\n",
        "\n",
        "    result1 = Dense(1, activation='sigmoid')(drop3)  \n",
        "\n",
        "    model = Model(inputs=words, outputs=result1)\n",
        "    model.compile(loss=binary_crossentropy, optimizer=Adam(lr = 0.001),metrics = ['accuracy',auc])\n",
        "\n",
        "    return model"
      ],
      "execution_count": 0,
      "outputs": []
    },
    {
      "cell_type": "code",
      "metadata": {
        "id": "tFuSiKgme3l6",
        "colab_type": "code",
        "colab": {}
      },
      "source": [
        "CHARS_TO_REMOVE = '!\"#$%&()*+,-./:;<=>?@[\\\\]^_`{|}~\\t\\n“”’\\'∞θ÷α•à−β∅³π‘₹´°£€\\×™√²—'\n",
        "\n",
        "MAX_LEN = 220\n",
        "EMBEDDING_FILES = [\n",
        "    '/content/drive/My Drive/Task2_Search/crawl-300d-2M.gensim',\n",
        "    '/content/drive/My Drive/Task2_Search/glove.840B.300d.gensim'\n",
        "]\n",
        "\n",
        "x_train = reviews_data_x_train[\"cleaned_text_final\"].astype(str)\n",
        "y_train = reviews_data_y_train.values\n",
        "x_test = reviews_data_x_test.astype(str)\n",
        "y_test = reviews_data_y_test.values\n",
        "x_val = reviews_data_x_val[\"cleaned_text_final\"].astype(str)\n",
        "y_val = reviews_data_y_val.values\n",
        "\n",
        "tokenizer = text.Tokenizer(filters=CHARS_TO_REMOVE, lower=False)\n",
        "tokenizer.fit_on_texts(list(x_train) + list(x_test) +  list(x_val))\n",
        "\n",
        "x_train = tokenizer.texts_to_sequences(x_train)\n",
        "x_test = tokenizer.texts_to_sequences(x_test)\n",
        "x_val = tokenizer.texts_to_sequences(x_val)\n",
        "\n",
        "x_train = sequence.pad_sequences(x_train, maxlen=MAX_LEN)\n",
        "x_test = sequence.pad_sequences(x_test, maxlen=MAX_LEN)\n",
        "x_val = sequence.pad_sequences(x_val, maxlen=MAX_LEN)"
      ],
      "execution_count": 0,
      "outputs": []
    },
    {
      "cell_type": "code",
      "metadata": {
        "id": "DaP329iR2-J4",
        "colab_type": "code",
        "colab": {
          "base_uri": "https://localhost:8080/",
          "height": 34
        },
        "outputId": "32eebcdb-0b66-4a4a-89a6-3b41cff53bf2"
      },
      "source": [
        "print(x_train.shape)"
      ],
      "execution_count": 14,
      "outputs": [
        {
          "output_type": "stream",
          "text": [
            "(214211, 220)\n"
          ],
          "name": "stdout"
        }
      ]
    },
    {
      "cell_type": "code",
      "metadata": {
        "id": "eXKMZjSie85u",
        "colab_type": "code",
        "outputId": "62d27df7-834f-4f94-b8e4-e1350a257415",
        "colab": {
          "base_uri": "https://localhost:8080/",
          "height": 71
        }
      },
      "source": [
        "embedding_matrix = np.concatenate(\n",
        "    [build_matrix(tokenizer.word_index, f) for f in EMBEDDING_FILES], axis=-1)"
      ],
      "execution_count": 15,
      "outputs": [
        {
          "output_type": "stream",
          "text": [
            "/usr/local/lib/python3.6/dist-packages/smart_open/smart_open_lib.py:402: UserWarning: This function is deprecated, use smart_open.open instead. See the migration notes for details: https://github.com/RaRe-Technologies/smart_open/blob/master/README.rst#migrating-to-the-new-open-function\n",
            "  'See the migration notes for details: %s' % _MIGRATION_NOTES_URL\n"
          ],
          "name": "stderr"
        }
      ]
    },
    {
      "cell_type": "code",
      "metadata": {
        "id": "bBx0I66ATARl",
        "colab_type": "code",
        "colab": {
          "base_uri": "https://localhost:8080/",
          "height": 598
        },
        "outputId": "edb79480-f7aa-474c-fefe-917c4c78537e"
      },
      "source": [
        "model = build_model(embedding_matrix)\n",
        "\n"
      ],
      "execution_count": 16,
      "outputs": [
        {
          "output_type": "stream",
          "text": [
            "WARNING:tensorflow:From /usr/local/lib/python3.6/dist-packages/keras/backend/tensorflow_backend.py:66: The name tf.get_default_graph is deprecated. Please use tf.compat.v1.get_default_graph instead.\n",
            "\n",
            "WARNING:tensorflow:From /usr/local/lib/python3.6/dist-packages/keras/backend/tensorflow_backend.py:541: The name tf.placeholder is deprecated. Please use tf.compat.v1.placeholder instead.\n",
            "\n",
            "WARNING:tensorflow:From /usr/local/lib/python3.6/dist-packages/keras/backend/tensorflow_backend.py:4432: The name tf.random_uniform is deprecated. Please use tf.random.uniform instead.\n",
            "\n",
            "WARNING:tensorflow:From /usr/local/lib/python3.6/dist-packages/keras/backend/tensorflow_backend.py:190: The name tf.get_default_session is deprecated. Please use tf.compat.v1.get_default_session instead.\n",
            "\n",
            "WARNING:tensorflow:From /usr/local/lib/python3.6/dist-packages/keras/backend/tensorflow_backend.py:197: The name tf.ConfigProto is deprecated. Please use tf.compat.v1.ConfigProto instead.\n",
            "\n",
            "WARNING:tensorflow:From /usr/local/lib/python3.6/dist-packages/keras/backend/tensorflow_backend.py:203: The name tf.Session is deprecated. Please use tf.compat.v1.Session instead.\n",
            "\n",
            "WARNING:tensorflow:From /usr/local/lib/python3.6/dist-packages/keras/backend/tensorflow_backend.py:207: The name tf.global_variables is deprecated. Please use tf.compat.v1.global_variables instead.\n",
            "\n",
            "WARNING:tensorflow:From /usr/local/lib/python3.6/dist-packages/keras/backend/tensorflow_backend.py:216: The name tf.is_variable_initialized is deprecated. Please use tf.compat.v1.is_variable_initialized instead.\n",
            "\n",
            "WARNING:tensorflow:From /usr/local/lib/python3.6/dist-packages/keras/backend/tensorflow_backend.py:223: The name tf.variables_initializer is deprecated. Please use tf.compat.v1.variables_initializer instead.\n",
            "\n",
            "WARNING:tensorflow:From /usr/local/lib/python3.6/dist-packages/keras/backend/tensorflow_backend.py:148: The name tf.placeholder_with_default is deprecated. Please use tf.compat.v1.placeholder_with_default instead.\n",
            "\n",
            "WARNING:tensorflow:From /usr/local/lib/python3.6/dist-packages/keras/backend/tensorflow_backend.py:3733: calling dropout (from tensorflow.python.ops.nn_ops) with keep_prob is deprecated and will be removed in a future version.\n",
            "Instructions for updating:\n",
            "Please use `rate` instead of `keep_prob`. Rate should be set to `rate = 1 - keep_prob`.\n",
            "WARNING:tensorflow:From /usr/local/lib/python3.6/dist-packages/keras/optimizers.py:793: The name tf.train.Optimizer is deprecated. Please use tf.compat.v1.train.Optimizer instead.\n",
            "\n",
            "WARNING:tensorflow:From /usr/local/lib/python3.6/dist-packages/keras/backend/tensorflow_backend.py:3657: The name tf.log is deprecated. Please use tf.math.log instead.\n",
            "\n",
            "WARNING:tensorflow:From /usr/local/lib/python3.6/dist-packages/tensorflow_core/python/ops/nn_impl.py:183: where (from tensorflow.python.ops.array_ops) is deprecated and will be removed in a future version.\n",
            "Instructions for updating:\n",
            "Use tf.where in 2.0, which has the same broadcast rule as np.where\n",
            "WARNING:tensorflow:From /usr/local/lib/python3.6/dist-packages/tensorflow_core/python/ops/metrics_impl.py:808: div (from tensorflow.python.ops.math_ops) is deprecated and will be removed in a future version.\n",
            "Instructions for updating:\n",
            "Deprecated in favor of operator or tf.math.divide.\n"
          ],
          "name": "stdout"
        }
      ]
    },
    {
      "cell_type": "code",
      "metadata": {
        "id": "7tNgwZQvktg5",
        "colab_type": "code",
        "outputId": "740cb954-ea74-4b22-c15e-b1aeac368034",
        "colab": {
          "base_uri": "https://localhost:8080/",
          "height": 309
        }
      },
      "source": [
        "model = build_model(embedding_matrix)\n",
        "model.fit(x_train, y_train, batch_size = 100, epochs = 5, validation_data = (x_val, y_val))"
      ],
      "execution_count": 17,
      "outputs": [
        {
          "output_type": "stream",
          "text": [
            "WARNING:tensorflow:From /usr/local/lib/python3.6/dist-packages/keras/backend/tensorflow_backend.py:1033: The name tf.assign_add is deprecated. Please use tf.compat.v1.assign_add instead.\n",
            "\n",
            "WARNING:tensorflow:From /usr/local/lib/python3.6/dist-packages/keras/backend/tensorflow_backend.py:1020: The name tf.assign is deprecated. Please use tf.compat.v1.assign instead.\n",
            "\n",
            "Train on 214211 samples, validate on 53553 samples\n",
            "Epoch 1/5\n",
            "214211/214211 [==============================] - 368s 2ms/step - loss: 0.6424 - acc: 0.6337 - auc: 0.6726 - val_loss: 0.6387 - val_acc: 0.6375 - val_auc: 0.6801\n",
            "Epoch 2/5\n",
            "214211/214211 [==============================] - 361s 2ms/step - loss: 0.6359 - acc: 0.6401 - auc: 0.6825 - val_loss: 0.6360 - val_acc: 0.6382 - val_auc: 0.6848\n",
            "Epoch 3/5\n",
            "214211/214211 [==============================] - 358s 2ms/step - loss: 0.6327 - acc: 0.6441 - auc: 0.6866 - val_loss: 0.6369 - val_acc: 0.6379 - val_auc: 0.6877\n",
            "Epoch 4/5\n",
            "214211/214211 [==============================] - 357s 2ms/step - loss: 0.6295 - acc: 0.6470 - auc: 0.6890 - val_loss: 0.6353 - val_acc: 0.6415 - val_auc: 0.6902\n",
            "Epoch 5/5\n",
            "214211/214211 [==============================] - 360s 2ms/step - loss: 0.6252 - acc: 0.6515 - auc: 0.6917 - val_loss: 0.6346 - val_acc: 0.6391 - val_auc: 0.6927\n"
          ],
          "name": "stdout"
        },
        {
          "output_type": "execute_result",
          "data": {
            "text/plain": [
              "<keras.callbacks.History at 0x7fb1d36f5470>"
            ]
          },
          "metadata": {
            "tags": []
          },
          "execution_count": 17
        }
      ]
    },
    {
      "cell_type": "code",
      "metadata": {
        "id": "ltrediQXjtK0",
        "colab_type": "code",
        "colab": {
          "base_uri": "https://localhost:8080/",
          "height": 34
        },
        "outputId": "ecb2720d-63f8-4ee4-9a6c-b318f4c8b16a"
      },
      "source": [
        "y_pred = model.predict(x_test)\n",
        "print(\"AUC Score:\", roc_auc_score(y_test, y_pred))\n"
      ],
      "execution_count": 18,
      "outputs": [
        {
          "output_type": "stream",
          "text": [
            "AUC Score: 0.6967128940946751\n"
          ],
          "name": "stdout"
        }
      ]
    },
    {
      "cell_type": "code",
      "metadata": {
        "id": "zcEUOlNvf7cC",
        "colab_type": "code",
        "colab": {
          "base_uri": "https://localhost:8080/",
          "height": 1000
        },
        "outputId": "58dd46e4-ca40-4da3-a436-92f209413f8d"
      },
      "source": [
        "plot_model(model, to_file='/content/drive/My Drive/Task2_Search/Saved_Models/Architecture_Model1_Reviews.png')"
      ],
      "execution_count": 19,
      "outputs": [
        {
          "output_type": "execute_result",
          "data": {
            "image/png": "[encoded data removed]",
            "text/plain": [
              "<IPython.core.display.Image object>"
            ]
          },
          "metadata": {
            "tags": []
          },
          "execution_count": 19
        }
      ]
    },
    {
      "cell_type": "code",
      "metadata": {
        "id": "tKY7wN_6FVXd",
        "colab_type": "code",
        "colab": {
          "base_uri": "https://localhost:8080/",
          "height": 296
        },
        "outputId": "6f343e5c-93b8-4280-df4b-7e2d81090ce4"
      },
      "source": [
        "\n",
        "\n",
        "res_auc = roc_auc_score(y_test, y_pred)\n",
        "print('Model 2: ROC AUC=%.3f' % (res_auc))\n",
        "\n",
        "rs_fpr, rs_tpr, _ = roc_curve(y_test, y_pred)\n",
        "\n",
        "plt.plot(rs_fpr, rs_tpr, linestyle='--', label='Model 2: only reviews')\n",
        "\n",
        "plt.xlabel('False Positive Rate')\n",
        "plt.ylabel('True Positive Rate')\n",
        "\n",
        "plt.legend()\n",
        "\n",
        "plt.show()"
      ],
      "execution_count": 26,
      "outputs": [
        {
          "output_type": "stream",
          "text": [
            "Model 2: ROC AUC=0.697\n"
          ],
          "name": "stdout"
        },
        {
          "output_type": "display_data",
          "data": {
            "image/png": "[encoded data removed]",
            "text/plain": [
              "<Figure size 432x288 with 1 Axes>"
            ]
          },
          "metadata": {
            "tags": []
          }
        }
      ]
    }
  ]
}