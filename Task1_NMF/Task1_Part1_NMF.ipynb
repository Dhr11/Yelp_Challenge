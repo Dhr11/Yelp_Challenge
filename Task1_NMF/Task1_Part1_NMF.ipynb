{
 "cells": [
  {
   "cell_type": "markdown",
   "metadata": {},
   "source": [
    "# TASK 1 PART 1: NON NEGATIVE MATRIX FACTORIZATION\n",
    "\n",
    "Creating user business matrix and applying a variation of collaborative filtering method where the errors between predictions and true value is minimized using gradient descent\n",
    "\n",
    "Reference: http://www.quuxlabs.com/blog/2010/09/matrix-factorization-a-simple-tutorial-and-implementation-in-python/"
   ]
  },
  {
   "cell_type": "code",
   "execution_count": 1,
   "metadata": {
    "colab": {},
    "colab_type": "code",
    "id": "PbWFoOqH91CI"
   },
   "outputs": [],
   "source": [
    "#imports go here\n",
    "import json\n",
    "import pandas as pd\n",
    "import numpy as np\n",
    "import copy\n",
    "import random\n",
    "import pickle\n",
    "import math\n",
    "import matplotlib.pyplot as plt\n",
    "\n",
    "from matplotlib.axes import Axes\n",
    "from sklearn.model_selection import train_test_split\n"
   ]
  },
  {
   "cell_type": "markdown",
   "metadata": {},
   "source": [
    "Data stored in nv_restaurants_reviews.csv consits of reviews for NV based restaurants\n",
    "\n",
    "Note: Place the nv_restaurants_reviews.csv in the same folder or enter the path"
   ]
  },
  {
   "cell_type": "code",
   "execution_count": 3,
   "metadata": {
    "colab": {},
    "colab_type": "code",
    "id": "PBuxN_mQ96TB"
   },
   "outputs": [],
   "source": [
    "nevada_pickle=pd.read_csv(\"nv_restaurants_reviews.csv\")"
   ]
  },
  {
   "cell_type": "code",
   "execution_count": 4,
   "metadata": {
    "colab": {
     "base_uri": "https://localhost:8080/",
     "height": 34
    },
    "colab_type": "code",
    "id": "kNnQO1xaGOTG",
    "outputId": "72f557f8-37f7-42da-e7fd-aab10f34e2d0"
   },
   "outputs": [
    {
     "data": {
      "text/plain": [
       "1391673"
      ]
     },
     "execution_count": 4,
     "metadata": {},
     "output_type": "execute_result"
    }
   ],
   "source": [
    "review_df_restaurant = nevada_pickle.loc[:, ['business_id', 'user_id','stars']]\n",
    "len(review_df_restaurant)"
   ]
  },
  {
   "cell_type": "markdown",
   "metadata": {},
   "source": [
    "Averaging the ratings at a user business level"
   ]
  },
  {
   "cell_type": "code",
   "execution_count": 5,
   "metadata": {
    "colab": {},
    "colab_type": "code",
    "id": "fUlsexoZGjKX"
   },
   "outputs": [],
   "source": [
    "review_df_restaurant_avg=review_df_restaurant.groupby(['business_id', 'user_id'], as_index=False).agg({\"stars\": \"mean\"})"
   ]
  },
  {
   "cell_type": "code",
   "execution_count": 6,
   "metadata": {
    "colab": {
     "base_uri": "https://localhost:8080/",
     "height": 34
    },
    "colab_type": "code",
    "id": "rqlps94YGngZ",
    "outputId": "bd3bce37-da14-4f0e-9d05-535ebe2a2121"
   },
   "outputs": [
    {
     "data": {
      "text/plain": [
       "1348010"
      ]
     },
     "execution_count": 6,
     "metadata": {},
     "output_type": "execute_result"
    }
   ],
   "source": [
    "len(review_df_restaurant_avg)"
   ]
  },
  {
   "cell_type": "code",
   "execution_count": 7,
   "metadata": {
    "colab": {
     "base_uri": "https://localhost:8080/",
     "height": 204
    },
    "colab_type": "code",
    "id": "Jd0LkcOXGu1s",
    "outputId": "604ede13-87ba-42aa-9f9e-17ddc2d496fc"
   },
   "outputs": [
    {
     "data": {
      "text/html": [
       "<div>\n",
       "<table border=\"1\" class=\"dataframe\">\n",
       "  <thead>\n",
       "    <tr style=\"text-align: right;\">\n",
       "      <th></th>\n",
       "      <th>business_id</th>\n",
       "      <th>user_id</th>\n",
       "      <th>stars</th>\n",
       "    </tr>\n",
       "  </thead>\n",
       "  <tbody>\n",
       "    <tr>\n",
       "      <th>0</th>\n",
       "      <td>--9e1ONYQuAa-CB_Rrw7Tw</td>\n",
       "      <td>---1lKK3aKOuomHnwAkAow</td>\n",
       "      <td>4.0</td>\n",
       "    </tr>\n",
       "    <tr>\n",
       "      <th>1</th>\n",
       "      <td>--9e1ONYQuAa-CB_Rrw7Tw</td>\n",
       "      <td>-11nMat3F0DgsxT30hn8zA</td>\n",
       "      <td>5.0</td>\n",
       "    </tr>\n",
       "    <tr>\n",
       "      <th>2</th>\n",
       "      <td>--9e1ONYQuAa-CB_Rrw7Tw</td>\n",
       "      <td>-3fMaL_ck0wzEsTZyz-mqA</td>\n",
       "      <td>5.0</td>\n",
       "    </tr>\n",
       "    <tr>\n",
       "      <th>3</th>\n",
       "      <td>--9e1ONYQuAa-CB_Rrw7Tw</td>\n",
       "      <td>-47EprTYhe9IbAvplGIcpA</td>\n",
       "      <td>5.0</td>\n",
       "    </tr>\n",
       "    <tr>\n",
       "      <th>4</th>\n",
       "      <td>--9e1ONYQuAa-CB_Rrw7Tw</td>\n",
       "      <td>-7cPERHtAupd1Xq53nmhXg</td>\n",
       "      <td>5.0</td>\n",
       "    </tr>\n",
       "  </tbody>\n",
       "</table>\n",
       "</div>"
      ],
      "text/plain": [
       "              business_id                 user_id  stars\n",
       "0  --9e1ONYQuAa-CB_Rrw7Tw  ---1lKK3aKOuomHnwAkAow    4.0\n",
       "1  --9e1ONYQuAa-CB_Rrw7Tw  -11nMat3F0DgsxT30hn8zA    5.0\n",
       "2  --9e1ONYQuAa-CB_Rrw7Tw  -3fMaL_ck0wzEsTZyz-mqA    5.0\n",
       "3  --9e1ONYQuAa-CB_Rrw7Tw  -47EprTYhe9IbAvplGIcpA    5.0\n",
       "4  --9e1ONYQuAa-CB_Rrw7Tw  -7cPERHtAupd1Xq53nmhXg    5.0"
      ]
     },
     "execution_count": 7,
     "metadata": {},
     "output_type": "execute_result"
    }
   ],
   "source": [
    "review_df_restaurant_avg.head()"
   ]
  },
  {
   "cell_type": "markdown",
   "metadata": {},
   "source": [
    "Sparsity Reduction: Using restaurants with reviews > 50 and users who gave reviews for minimum 20 restaurants"
   ]
  },
  {
   "cell_type": "code",
   "execution_count": 8,
   "metadata": {
    "colab": {},
    "colab_type": "code",
    "id": "4JAUQZbGGx8q"
   },
   "outputs": [],
   "source": [
    "BusinessGreaterThan50Reviews = review_df_restaurant_avg.groupby('business_id').filter(lambda x: x['business_id'].count()>50)\n",
    "\n"
   ]
  },
  {
   "cell_type": "code",
   "execution_count": 9,
   "metadata": {
    "colab": {
     "base_uri": "https://localhost:8080/",
     "height": 34
    },
    "colab_type": "code",
    "id": "Dx_aHP2YG3ln",
    "outputId": "03b9971c-ecff-4641-e0e3-143acc5f1928"
   },
   "outputs": [
    {
     "data": {
      "text/plain": [
       "3941"
      ]
     },
     "execution_count": 9,
     "metadata": {},
     "output_type": "execute_result"
    }
   ],
   "source": [
    "BusinessGreaterThan50Reviews.business_id.nunique()"
   ]
  },
  {
   "cell_type": "code",
   "execution_count": 10,
   "metadata": {
    "colab": {
     "base_uri": "https://localhost:8080/",
     "height": 204
    },
    "colab_type": "code",
    "id": "_QvsI_6dHMUm",
    "outputId": "cd80fb18-d88e-427a-d026-87fa7ca59023"
   },
   "outputs": [
    {
     "data": {
      "text/html": [
       "<div>\n",
       "<table border=\"1\" class=\"dataframe\">\n",
       "  <thead>\n",
       "    <tr style=\"text-align: right;\">\n",
       "      <th></th>\n",
       "      <th>business_id</th>\n",
       "      <th>user_id</th>\n",
       "      <th>stars</th>\n",
       "    </tr>\n",
       "  </thead>\n",
       "  <tbody>\n",
       "    <tr>\n",
       "      <th>0</th>\n",
       "      <td>--9e1ONYQuAa-CB_Rrw7Tw</td>\n",
       "      <td>---1lKK3aKOuomHnwAkAow</td>\n",
       "      <td>4.0</td>\n",
       "    </tr>\n",
       "    <tr>\n",
       "      <th>1</th>\n",
       "      <td>--9e1ONYQuAa-CB_Rrw7Tw</td>\n",
       "      <td>-11nMat3F0DgsxT30hn8zA</td>\n",
       "      <td>5.0</td>\n",
       "    </tr>\n",
       "    <tr>\n",
       "      <th>2</th>\n",
       "      <td>--9e1ONYQuAa-CB_Rrw7Tw</td>\n",
       "      <td>-3fMaL_ck0wzEsTZyz-mqA</td>\n",
       "      <td>5.0</td>\n",
       "    </tr>\n",
       "    <tr>\n",
       "      <th>3</th>\n",
       "      <td>--9e1ONYQuAa-CB_Rrw7Tw</td>\n",
       "      <td>-47EprTYhe9IbAvplGIcpA</td>\n",
       "      <td>5.0</td>\n",
       "    </tr>\n",
       "    <tr>\n",
       "      <th>4</th>\n",
       "      <td>--9e1ONYQuAa-CB_Rrw7Tw</td>\n",
       "      <td>-7cPERHtAupd1Xq53nmhXg</td>\n",
       "      <td>5.0</td>\n",
       "    </tr>\n",
       "  </tbody>\n",
       "</table>\n",
       "</div>"
      ],
      "text/plain": [
       "              business_id                 user_id  stars\n",
       "0  --9e1ONYQuAa-CB_Rrw7Tw  ---1lKK3aKOuomHnwAkAow    4.0\n",
       "1  --9e1ONYQuAa-CB_Rrw7Tw  -11nMat3F0DgsxT30hn8zA    5.0\n",
       "2  --9e1ONYQuAa-CB_Rrw7Tw  -3fMaL_ck0wzEsTZyz-mqA    5.0\n",
       "3  --9e1ONYQuAa-CB_Rrw7Tw  -47EprTYhe9IbAvplGIcpA    5.0\n",
       "4  --9e1ONYQuAa-CB_Rrw7Tw  -7cPERHtAupd1Xq53nmhXg    5.0"
      ]
     },
     "execution_count": 10,
     "metadata": {},
     "output_type": "execute_result"
    }
   ],
   "source": [
    "BusinessGreaterThan50Reviews.head()"
   ]
  },
  {
   "cell_type": "code",
   "execution_count": 11,
   "metadata": {
    "colab": {},
    "colab_type": "code",
    "id": "Uw70DMsLG6et"
   },
   "outputs": [],
   "source": [
    "UsersGreaterThan20Reviews = BusinessGreaterThan50Reviews.groupby('user_id').filter(lambda x: x['user_id'].count()> 20)"
   ]
  },
  {
   "cell_type": "code",
   "execution_count": 12,
   "metadata": {
    "colab": {
     "base_uri": "https://localhost:8080/",
     "height": 34
    },
    "colab_type": "code",
    "id": "9H_N83nYIJlk",
    "outputId": "383f7c73-2320-4b23-c480-cbf5ea2609a9"
   },
   "outputs": [
    {
     "data": {
      "text/plain": [
       "6113"
      ]
     },
     "execution_count": 12,
     "metadata": {},
     "output_type": "execute_result"
    }
   ],
   "source": [
    "UsersGreaterThan20Reviews.user_id.nunique()"
   ]
  },
  {
   "cell_type": "code",
   "execution_count": 13,
   "metadata": {
    "colab": {
     "base_uri": "https://localhost:8080/",
     "height": 34
    },
    "colab_type": "code",
    "id": "o92YXXDNI9_O",
    "outputId": "0a520152-9d8f-4f2c-d887-0267f384ab24"
   },
   "outputs": [
    {
     "data": {
      "text/plain": [
       "278425"
      ]
     },
     "execution_count": 13,
     "metadata": {},
     "output_type": "execute_result"
    }
   ],
   "source": [
    "len(UsersGreaterThan20Reviews)"
   ]
  },
  {
   "cell_type": "markdown",
   "metadata": {},
   "source": [
    "Creating user business matrix:"
   ]
  },
  {
   "cell_type": "code",
   "execution_count": 14,
   "metadata": {
    "colab": {},
    "colab_type": "code",
    "id": "hewSnGb4JBz-"
   },
   "outputs": [],
   "source": [
    "matrix = UsersGreaterThan20Reviews.pivot(index='user_id', columns='business_id', values='stars').fillna(0)"
   ]
  },
  {
   "cell_type": "code",
   "execution_count": 15,
   "metadata": {
    "colab": {
     "base_uri": "https://localhost:8080/",
     "height": 34
    },
    "colab_type": "code",
    "id": "mQ5jWwOgKubO",
    "outputId": "fea4fc21-f64d-4143-f0ac-d9c794a5fdf8"
   },
   "outputs": [
    {
     "data": {
      "text/plain": [
       "(6113, 3940)"
      ]
     },
     "execution_count": 15,
     "metadata": {},
     "output_type": "execute_result"
    }
   ],
   "source": [
    "matrix.shape"
   ]
  },
  {
   "cell_type": "markdown",
   "metadata": {},
   "source": [
    "TEST SPLIT:\n",
    "\n",
    "We randomly chose 20 percent of the values in the populated matrix and replaced them with zeros in the matrix. While sampling this 20 percent cells, we made sure of the following:\n",
    "\n",
    "- Corresponding users have rated atleast one other business\n",
    "- Corresponding restaurants are rated by atleast one other user\n",
    "\n",
    "    "
   ]
  },
  {
   "cell_type": "code",
   "execution_count": 16,
   "metadata": {
    "colab": {},
    "colab_type": "code",
    "id": "zrA3ngM4H_6J"
   },
   "outputs": [],
   "source": [
    "#Just to get an idea about the train test split that is supposed to be done\n",
    "zero_removal = int(0.2 * np.count_nonzero(matrix))"
   ]
  },
  {
   "cell_type": "code",
   "execution_count": 17,
   "metadata": {
    "colab": {
     "base_uri": "https://localhost:8080/",
     "height": 34
    },
    "colab_type": "code",
    "id": "9-4VykyEmr0u",
    "outputId": "6a7b20e6-6db3-40b8-d11b-13eebb9f5225"
   },
   "outputs": [
    {
     "name": "stdout",
     "output_type": "stream",
     "text": [
      "278425 55685\n"
     ]
    }
   ],
   "source": [
    "print(np.count_nonzero(matrix),zero_removal)"
   ]
  },
  {
   "cell_type": "code",
   "execution_count": 18,
   "metadata": {
    "colab": {},
    "colab_type": "code",
    "id": "DYYrK6CKOVas"
   },
   "outputs": [],
   "source": [
    "#Sampling of test and giving them a value of 0"
   ]
  },
  {
   "cell_type": "code",
   "execution_count": 19,
   "metadata": {
    "colab": {
     "base_uri": "https://localhost:8080/",
     "height": 153
    },
    "colab_type": "code",
    "id": "LGpFnovK-COs",
    "outputId": "07dc7998-13f0-43ad-c1ca-0501919d303b"
   },
   "outputs": [],
   "source": [
    "#matrix = [[5,0,0,0],[3,1,2,0],[0,0,3,5],[3,3,1,2],[3,1,2,3]]\n",
    "array_matrix = np.array(matrix)\n",
    "\n",
    "row_zero = np.count_nonzero(array_matrix, axis=1)\n",
    "col_zero = np.count_nonzero(array_matrix, axis=0)\n",
    "row_nums = dict(enumerate(row_zero))\n",
    "col_nums = dict(enumerate(col_zero))\n",
    "\n",
    "\n",
    "#print(\"Initial Matrix\")\n",
    "#print(array_matrix)\n",
    "#print(col_nums.keys())"
   ]
  },
  {
   "cell_type": "code",
   "execution_count": 20,
   "metadata": {
    "colab": {
     "base_uri": "https://localhost:8080/",
     "height": 153
    },
    "colab_type": "code",
    "id": "MXw68tnF_LOr",
    "outputId": "30afb6f1-a455-4d21-9844-4c33ef37d199"
   },
   "outputs": [],
   "source": [
    "# Get the non-zero samples and make them 0's in train matrix for testing!\n",
    "\n",
    "import sys\n",
    "sys.setrecursionlimit(20000)\n",
    "#LOOP THIS\n",
    "sample_array = []\n",
    "sample_count = 0\n",
    "new_matrix = copy.deepcopy(array_matrix)\n",
    "non_zero_list = np.nonzero(array_matrix)\n",
    "non_zero_samples_to_pick = []\n",
    "\n",
    "for i in range(len(non_zero_list[0])):\n",
    "    non_zero_samples_to_pick.append([non_zero_list[0][i],non_zero_list[1][i]]) \n",
    "\n",
    "def get_sample(non_zero_samples_to_pick,row_nums,col_nums): \n",
    "    if len(non_zero_samples_to_pick) <= 0:\n",
    "        return None\n",
    "    rand_sample = random.sample(non_zero_samples_to_pick, k=1)\n",
    "    \n",
    "    i_val = rand_sample[0][0]\n",
    "    j_val = rand_sample[0][1]\n",
    "    \n",
    "    if(row_nums[i_val]) > 1 and (col_nums[j_val]) > 1:\n",
    "        \n",
    "        #sample_count += 1\n",
    "        sample_array.append([i_val,j_val])\n",
    "        \n",
    "        new_matrix[i_val][j_val] = 0\n",
    "        row_nums[i_val]-=1\n",
    "        col_nums[j_val]-=1\n",
    "            \n",
    "    non_zero_samples_to_pick.remove([i_val,j_val])\n",
    "    \n",
    "    #Modify the sample_count to be one third or so.. depending on train test split\n",
    "\n",
    "for i in range(zero_removal):\n",
    "\n",
    "    get_sample(non_zero_samples_to_pick,row_nums,col_nums)\n",
    "\n"
   ]
  },
  {
   "cell_type": "code",
   "execution_count": 21,
   "metadata": {},
   "outputs": [],
   "source": [
    "user_business_id_test = []\n",
    "for x,y in sample_array:\n",
    "    user_business_id_test.append((matrix.index.values[x],matrix.columns[y]))\n"
   ]
  },
  {
   "cell_type": "code",
   "execution_count": 22,
   "metadata": {},
   "outputs": [
    {
     "data": {
      "text/plain": [
       "55685"
      ]
     },
     "execution_count": 22,
     "metadata": {},
     "output_type": "execute_result"
    }
   ],
   "source": [
    "len(user_business_id_test)"
   ]
  },
  {
   "cell_type": "markdown",
   "metadata": {},
   "source": [
    "Same data points for test was used across task 1 both parts"
   ]
  },
  {
   "cell_type": "code",
   "execution_count": 25,
   "metadata": {},
   "outputs": [],
   "source": [
    "'''\n",
    "import pickle\n",
    "with open (\"user_business_id_test.pkl\",'wb') as f:\n",
    "    pickle.dump(user_business_id_test,f)\n",
    "'''"
   ]
  },
  {
   "cell_type": "code",
   "execution_count": 23,
   "metadata": {},
   "outputs": [
    {
     "data": {
      "text/plain": [
       "'\\nwith open (\"user_business_id_test.pkl\",\\'rb\\') as f:\\n    test= pickle.load(f)\\n'"
      ]
     },
     "execution_count": 23,
     "metadata": {},
     "output_type": "execute_result"
    }
   ],
   "source": [
    "'''\n",
    "with open (\"user_business_id_test.pkl\",'rb') as f:\n",
    "    test= pickle.load(f)\n",
    "'''"
   ]
  },
  {
   "cell_type": "markdown",
   "metadata": {},
   "source": [
    "# Matrix Factorization Implementation\n",
    "\n",
    "- Creating P and Q matrix where K is a tuning parameter\n",
    "- RMSE is calculated for different K's while training"
   ]
  },
  {
   "cell_type": "code",
   "execution_count": 24,
   "metadata": {
    "colab": {},
    "colab_type": "code",
    "id": "enOkzbyY7ypJ"
   },
   "outputs": [],
   "source": [
    "min_error = float(\"Inf\")\n",
    "R = np.array(new_matrix)\n",
    "N = len(R)\n",
    "M = len(R[0])"
   ]
  },
  {
   "cell_type": "code",
   "execution_count": 25,
   "metadata": {
    "colab": {},
    "colab_type": "code",
    "id": "xMAD53o5-xGr"
   },
   "outputs": [],
   "source": [
    "def matrix_factorization(R, P, Q, K, alpha,beta,steps = 25):\n",
    "\n",
    "    Q = Q.T\n",
    "    for step in range(steps):\n",
    "        print(\"Iteration:\",step)\n",
    "        for i,j in R:\n",
    "            eij = new_matrix[i][j] - np.dot(P[i,:],Q[:,j])\n",
    "            #print(eij)\n",
    "                #np.array(P)\n",
    "            P[i,:] += alpha*(2*eij*Q[:,j])\n",
    "            P[i,:] -= alpha*beta*P[i,:]\n",
    "            Q[:,j] += alpha*(2*eij*P[i,:])\n",
    "            Q[:,j] -= alpha*beta*Q[:,j]\n",
    "\n",
    "        #eR = np.dot(P,Q)\n",
    "        e = 0\n",
    "        for i,j in R:\n",
    "            e = e + pow(new_matrix[i][j] - np.dot(P[i,:],Q[:,j]), 2)\n",
    "            \n",
    "            e = np.sum( (beta/2) * ( np.square(P[i,:]) + np.square(Q[:,j]) ) )\n",
    "        if e < 0.001:\n",
    "            break\n",
    "    nP = P\n",
    "    nQ = Q.T\n",
    "    nR = np.dot(nP,nQ.T)\n",
    "\n",
    "    train_count = np.count_nonzero(R)\n",
    "    sq_train_error = 0\n",
    "\n",
    "    for i,j in R:\n",
    "        sq_train_error += np.square(new_matrix[i][j]-nR[i][j])\n",
    "\n",
    "    mean_sq_train_error = sq_train_error/train_count\n",
    "    \n",
    "    return mean_sq_train_error,nR\n",
    "\n"
   ]
  },
  {
   "cell_type": "code",
   "execution_count": 26,
   "metadata": {},
   "outputs": [],
   "source": [
    "after_non_zero_list = np.nonzero(new_matrix)\n",
    "after_non_zero_samples_to_pick = []\n",
    "\n",
    "for i in range(len(after_non_zero_list[0])):\n",
    "    after_non_zero_samples_to_pick.append([after_non_zero_list[0][i],after_non_zero_list[1][i]]) \n"
   ]
  },
  {
   "cell_type": "code",
   "execution_count": 34,
   "metadata": {},
   "outputs": [
    {
     "name": "stdout",
     "output_type": "stream",
     "text": [
      "K Value :  100\n",
      "Iteration: 0\n",
      "Iteration: 1\n",
      "Iteration: 2\n",
      "Iteration: 3\n",
      "Iteration: 4\n",
      "Iteration: 5\n",
      "Iteration: 6\n",
      "Iteration: 7\n",
      "Iteration: 8\n",
      "Iteration: 9\n",
      "Iteration: 10\n",
      "Iteration: 11\n",
      "Iteration: 12\n",
      "Iteration: 13\n",
      "Iteration: 14\n",
      "Iteration: 15\n",
      "Iteration: 16\n",
      "Iteration: 17\n",
      "Iteration: 18\n",
      "Iteration: 19\n",
      "Iteration: 20\n",
      "Iteration: 21\n",
      "Iteration: 22\n",
      "Iteration: 23\n",
      "Iteration: 24\n",
      "Iteration: 25\n",
      "Iteration: 26\n",
      "Iteration: 27\n",
      "Iteration: 28\n",
      "Iteration: 29\n",
      "0.20623635655506328\n",
      "K Value :  120\n",
      "Iteration: 0\n",
      "Iteration: 1\n",
      "Iteration: 2\n",
      "Iteration: 3\n",
      "Iteration: 4\n",
      "Iteration: 5\n",
      "Iteration: 6\n",
      "Iteration: 7\n",
      "Iteration: 8\n",
      "Iteration: 9\n",
      "Iteration: 10\n",
      "Iteration: 11\n",
      "Iteration: 12\n",
      "Iteration: 13\n",
      "Iteration: 14\n",
      "Iteration: 15\n",
      "Iteration: 16\n",
      "Iteration: 17\n",
      "Iteration: 18\n",
      "Iteration: 19\n",
      "Iteration: 20\n",
      "Iteration: 21\n",
      "Iteration: 22\n",
      "Iteration: 23\n",
      "Iteration: 24\n",
      "Iteration: 25\n",
      "Iteration: 26\n",
      "Iteration: 27\n",
      "Iteration: 28\n",
      "Iteration: 29\n",
      "0.18594319390143182\n",
      "K Value :  150\n",
      "Iteration: 0\n",
      "Iteration: 1\n",
      "Iteration: 2\n",
      "Iteration: 3\n",
      "Iteration: 4\n",
      "Iteration: 5\n",
      "Iteration: 6\n",
      "Iteration: 7\n",
      "Iteration: 8\n",
      "Iteration: 9\n",
      "Iteration: 10\n",
      "Iteration: 11\n",
      "Iteration: 12\n",
      "Iteration: 13\n",
      "Iteration: 14\n",
      "Iteration: 15\n",
      "Iteration: 16\n",
      "Iteration: 17\n",
      "Iteration: 18\n",
      "Iteration: 19\n",
      "Iteration: 20\n",
      "Iteration: 21\n",
      "Iteration: 22\n",
      "Iteration: 23\n",
      "Iteration: 24\n",
      "Iteration: 25\n",
      "Iteration: 26\n",
      "Iteration: 27\n",
      "Iteration: 28\n",
      "Iteration: 29\n",
      "0.16400932582269015\n",
      "K Value :  180\n",
      "Iteration: 0\n",
      "Iteration: 1\n",
      "Iteration: 2\n",
      "Iteration: 3\n",
      "Iteration: 4\n",
      "Iteration: 5\n",
      "Iteration: 6\n",
      "Iteration: 7\n",
      "Iteration: 8\n",
      "Iteration: 9\n",
      "Iteration: 10\n",
      "Iteration: 11\n",
      "Iteration: 12\n",
      "Iteration: 13\n",
      "Iteration: 14\n",
      "Iteration: 15\n",
      "Iteration: 16\n",
      "Iteration: 17\n",
      "Iteration: 18\n",
      "Iteration: 19\n",
      "Iteration: 20\n",
      "Iteration: 21\n",
      "Iteration: 22\n",
      "Iteration: 23\n",
      "Iteration: 24\n",
      "Iteration: 25\n",
      "Iteration: 26\n",
      "Iteration: 27\n",
      "Iteration: 28\n",
      "Iteration: 29\n",
      "0.14917055298125492\n"
     ]
    }
   ],
   "source": [
    "#Change the K array accordingly\n",
    "min_error = float(\"Inf\")\n",
    "K_array = [100,120,150,180]\n",
    "final_K_val = K_array[0]\n",
    "result_array = []\n",
    "\n",
    "for K in K_array:\n",
    "    print(\"K Value : \", K)\n",
    "    P = np.random.rand(N,K)\n",
    "    Q = np.random.rand(M,K)\n",
    "    returned_error, nR_value = matrix_factorization(after_non_zero_samples_to_pick, P, Q, K, .002,.2,steps =30 )\n",
    "    result_array.append([K,returned_error,nR_value])\n",
    "    if returned_error < min_error:\n",
    "        print(returned_error)\n",
    "        final_K_val = K\n",
    "        min_error = returned_error\n",
    "        final_matrix = nR_value"
   ]
  },
  {
   "cell_type": "code",
   "execution_count": 35,
   "metadata": {},
   "outputs": [
    {
     "name": "stdout",
     "output_type": "stream",
     "text": [
      "[(100, 1.1153148977361766), (120, 1.1556476997783187), (150, 1.2309959518458604), (180, 1.316463030257482)]\n"
     ]
    }
   ],
   "source": [
    "test_error=[]\n",
    "\n",
    "counter = 0\n",
    "for mat in result_array:\n",
    "    mat_error = 0\n",
    "    \n",
    "    for i in sample_array:\n",
    "        mat_error += math.pow((array_matrix[i[0]][i[1]]-mat[2][i[0]][i[1]]),2)\n",
    "    rmse_mat = math.sqrt(mat_error/len(sample_array))\n",
    "    test_error.append((K_array[counter],rmse_mat))\n",
    "    counter+=1\n",
    "\n",
    "\n",
    "print(test_error)"
   ]
  },
  {
   "cell_type": "code",
   "execution_count": 36,
   "metadata": {},
   "outputs": [
    {
     "name": "stdout",
     "output_type": "stream",
     "text": [
      "[(100, 0.20623635655506328), (120, 0.18594319390143182), (150, 0.16400932582269015), (180, 0.14917055298125492)]\n"
     ]
    }
   ],
   "source": [
    "train_error = [(x[0],x[1]) for x in result_array]\n",
    "print(train_error)"
   ]
  },
  {
   "cell_type": "code",
   "execution_count": 37,
   "metadata": {},
   "outputs": [],
   "source": [
    "test_error.sort(key=lambda x:x[0])\n",
    "train_error.sort(key=lambda x:x[0])\n",
    "train_errors_sorted = [r[1] for r in train_error]\n",
    "test_errors_sorted = [r[1] for r in test_error]\n",
    "k_vals_array = [r[0] for r in train_error]"
   ]
  },
  {
   "cell_type": "code",
   "execution_count": 38,
   "metadata": {},
   "outputs": [
    {
     "name": "stdout",
     "output_type": "stream",
     "text": [
      "[(100, 0.20623635655506328), (120, 0.18594319390143182), (150, 0.16400932582269015), (180, 0.14917055298125492)]\n"
     ]
    }
   ],
   "source": [
    "print(train_error)"
   ]
  },
  {
   "cell_type": "code",
   "execution_count": 39,
   "metadata": {},
   "outputs": [
    {
     "name": "stdout",
     "output_type": "stream",
     "text": [
      "[(100, 1.1153148977361766), (120, 1.1556476997783187), (150, 1.2309959518458604), (180, 1.316463030257482)]\n"
     ]
    }
   ],
   "source": [
    "print(test_error)"
   ]
  },
  {
   "cell_type": "markdown",
   "metadata": {},
   "source": [
    "Plotting Graph with RMSE"
   ]
  },
  {
   "cell_type": "code",
   "execution_count": 40,
   "metadata": {},
   "outputs": [
    {
     "data": {
      "image/png": "[encoded data removed]",
      "text/plain": [
       "<Figure size 432x432 with 1 Axes>"
      ]
     },
     "metadata": {},
     "output_type": "display_data"
    }
   ],
   "source": [
    "fig, ax = plt.subplots(figsize = (6,6))\n",
    "ax.plot(k_vals_array, train_errors_sorted, color='green', label='Training Error')\n",
    "ax.plot(k_vals_array, test_errors_sorted, color='orange', label='Testing Error')\n",
    "                                   # <--\n",
    "\n",
    "ax.set_xlabel('K Value')\n",
    "ax.set_ylabel('RMSE')\n",
    "ax.set_title('Train and Test error with K')\n",
    "plt.legend()\n",
    "plt.show()\n"
   ]
  },
  {
   "cell_type": "code",
   "execution_count": 41,
   "metadata": {},
   "outputs": [
    {
     "data": {
      "image/png": "[encoded data removed]",
      "text/plain": [
       "<Figure size 432x432 with 1 Axes>"
      ]
     },
     "metadata": {},
     "output_type": "display_data"
    }
   ],
   "source": [
    "fig, ax = plt.subplots(figsize = (6,6))\n",
    "ax.plot(k_vals_array, train_errors_sorted, color='green', label='Training Error')\n",
    "\n",
    "\n",
    "ax.set_xlabel('K Value')\n",
    "ax.set_ylabel('RMSE')\n",
    "ax.set_title('Train and Test error with K')\n",
    "plt.legend()\n",
    "plt.show()\n"
   ]
  },
  {
   "cell_type": "code",
   "execution_count": null,
   "metadata": {},
   "outputs": [],
   "source": []
  }
 ],
 "metadata": {
  "accelerator": "GPU",
  "colab": {
   "collapsed_sections": [],
   "machine_shape": "hm",
   "name": "Task 1 Part 1 Final Version.ipynb",
   "provenance": []
  },
  "kernelspec": {
   "display_name": "Python 3",
   "language": "python",
   "name": "python3"
  },
  "language_info": {
   "codemirror_mode": {
    "name": "ipython",
    "version": 3
   },
   "file_extension": ".py",
   "mimetype": "text/x-python",
   "name": "python",
   "nbconvert_exporter": "python",
   "pygments_lexer": "ipython3",
   "version": "3.6.8"
  }
 },
 "nbformat": 4,
 "nbformat_minor": 1
}
